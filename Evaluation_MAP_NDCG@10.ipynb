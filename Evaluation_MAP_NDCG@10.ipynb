{
 "cells": [
  {
   "cell_type": "code",
   "execution_count": 1,
   "metadata": {
    "collapsed": true
   },
   "outputs": [],
   "source": [
    "import numpy as np\n",
    "import pandas as pd"
   ]
  },
  {
   "cell_type": "code",
   "execution_count": null,
   "metadata": {
    "collapsed": true
   },
   "outputs": [],
   "source": [
    "\"\"\"\n",
    "Description:\n",
    "the below code implements reranking and evaluates the model using MAP and NDCG@10\n",
    "to do the final ranking it uses the reranked file with scores given by the model, \n",
    "then sorts them to give the final ranking \n",
    "original relevance labels are taken from the test.txt file used as an input to do reranking\n",
    "\n",
    "\"\"\""
   ]
  },
  {
   "cell_type": "markdown",
   "metadata": {},
   "source": [
    "## New Ranking by RankNet Model: df_new_rank"
   ]
  },
  {
   "cell_type": "markdown",
   "metadata": {},
   "source": [
    "Data Cleaning: test.txt file (df_test)"
   ]
  },
  {
   "cell_type": "code",
   "execution_count": 2,
   "metadata": {
    "collapsed": false
   },
   "outputs": [
    {
     "data": {
      "text/html": [
       "<div>\n",
       "<table border=\"1\" class=\"dataframe\">\n",
       "  <thead>\n",
       "    <tr style=\"text-align: right;\">\n",
       "      <th></th>\n",
       "      <th>quid</th>\n",
       "      <th>rel</th>\n",
       "    </tr>\n",
       "  </thead>\n",
       "  <tbody>\n",
       "    <tr>\n",
       "      <th>0</th>\n",
       "      <td>13</td>\n",
       "      <td>2</td>\n",
       "    </tr>\n",
       "    <tr>\n",
       "      <th>1</th>\n",
       "      <td>13</td>\n",
       "      <td>1</td>\n",
       "    </tr>\n",
       "    <tr>\n",
       "      <th>2</th>\n",
       "      <td>13</td>\n",
       "      <td>3</td>\n",
       "    </tr>\n",
       "    <tr>\n",
       "      <th>3</th>\n",
       "      <td>13</td>\n",
       "      <td>1</td>\n",
       "    </tr>\n",
       "    <tr>\n",
       "      <th>4</th>\n",
       "      <td>13</td>\n",
       "      <td>0</td>\n",
       "    </tr>\n",
       "    <tr>\n",
       "      <th>5</th>\n",
       "      <td>13</td>\n",
       "      <td>0</td>\n",
       "    </tr>\n",
       "    <tr>\n",
       "      <th>6</th>\n",
       "      <td>13</td>\n",
       "      <td>1</td>\n",
       "    </tr>\n",
       "    <tr>\n",
       "      <th>7</th>\n",
       "      <td>13</td>\n",
       "      <td>0</td>\n",
       "    </tr>\n",
       "    <tr>\n",
       "      <th>8</th>\n",
       "      <td>13</td>\n",
       "      <td>0</td>\n",
       "    </tr>\n",
       "    <tr>\n",
       "      <th>9</th>\n",
       "      <td>13</td>\n",
       "      <td>2</td>\n",
       "    </tr>\n",
       "  </tbody>\n",
       "</table>\n",
       "</div>"
      ],
      "text/plain": [
       "  quid  rel\n",
       "0   13    2\n",
       "1   13    1\n",
       "2   13    3\n",
       "3   13    1\n",
       "4   13    0\n",
       "5   13    0\n",
       "6   13    1\n",
       "7   13    0\n",
       "8   13    0\n",
       "9   13    2"
      ]
     },
     "execution_count": 2,
     "metadata": {},
     "output_type": "execute_result"
    }
   ],
   "source": [
    "#original test.txt (Fold 1) with relevance values:\n",
    "df_test = pd.read_csv('test.txt', sep=\" \", header = None)\n",
    "pd.set_option('display.max_columns', 500)\n",
    "\n",
    "#data cleaning:\n",
    "df_test[1] = df_test[1].map(lambda x: x.lstrip('qid:'))      \n",
    "df_test.insert(0, 'quid', df_test[1])\n",
    "df_test.insert(1, 'rel', df_test[0])\n",
    "df_test = pd.concat([df_test['quid'], df_test['rel']], axis=1, keys=['quid', 'rel'])\n",
    "df_test.head(10)"
   ]
  },
  {
   "cell_type": "markdown",
   "metadata": {},
   "source": [
    "Ranking Produced by RankNet Model (model) (on test.txt data):"
   ]
  },
  {
   "cell_type": "code",
   "execution_count": 3,
   "metadata": {
    "collapsed": false
   },
   "outputs": [
    {
     "data": {
      "text/html": [
       "<div>\n",
       "<table border=\"1\" class=\"dataframe\">\n",
       "  <thead>\n",
       "    <tr style=\"text-align: right;\">\n",
       "      <th></th>\n",
       "      <th>quid_model</th>\n",
       "      <th>count_model</th>\n",
       "      <th>rank_model</th>\n",
       "    </tr>\n",
       "  </thead>\n",
       "  <tbody>\n",
       "    <tr>\n",
       "      <th>0</th>\n",
       "      <td>13</td>\n",
       "      <td>0</td>\n",
       "      <td>0.473997</td>\n",
       "    </tr>\n",
       "    <tr>\n",
       "      <th>1</th>\n",
       "      <td>13</td>\n",
       "      <td>1</td>\n",
       "      <td>0.473997</td>\n",
       "    </tr>\n",
       "    <tr>\n",
       "      <th>2</th>\n",
       "      <td>13</td>\n",
       "      <td>2</td>\n",
       "      <td>0.473997</td>\n",
       "    </tr>\n",
       "    <tr>\n",
       "      <th>3</th>\n",
       "      <td>13</td>\n",
       "      <td>3</td>\n",
       "      <td>0.431526</td>\n",
       "    </tr>\n",
       "    <tr>\n",
       "      <th>4</th>\n",
       "      <td>13</td>\n",
       "      <td>4</td>\n",
       "      <td>0.442372</td>\n",
       "    </tr>\n",
       "    <tr>\n",
       "      <th>5</th>\n",
       "      <td>13</td>\n",
       "      <td>5</td>\n",
       "      <td>0.485951</td>\n",
       "    </tr>\n",
       "    <tr>\n",
       "      <th>6</th>\n",
       "      <td>13</td>\n",
       "      <td>6</td>\n",
       "      <td>0.473997</td>\n",
       "    </tr>\n",
       "    <tr>\n",
       "      <th>7</th>\n",
       "      <td>13</td>\n",
       "      <td>7</td>\n",
       "      <td>0.473997</td>\n",
       "    </tr>\n",
       "    <tr>\n",
       "      <th>8</th>\n",
       "      <td>13</td>\n",
       "      <td>8</td>\n",
       "      <td>0.489055</td>\n",
       "    </tr>\n",
       "    <tr>\n",
       "      <th>9</th>\n",
       "      <td>13</td>\n",
       "      <td>9</td>\n",
       "      <td>0.473997</td>\n",
       "    </tr>\n",
       "  </tbody>\n",
       "</table>\n",
       "</div>"
      ],
      "text/plain": [
       "   quid_model  count_model  rank_model\n",
       "0          13            0    0.473997\n",
       "1          13            1    0.473997\n",
       "2          13            2    0.473997\n",
       "3          13            3    0.431526\n",
       "4          13            4    0.442372\n",
       "5          13            5    0.485951\n",
       "6          13            6    0.473997\n",
       "7          13            7    0.473997\n",
       "8          13            8    0.489055\n",
       "9          13            9    0.473997"
      ]
     },
     "execution_count": 3,
     "metadata": {},
     "output_type": "execute_result"
    }
   ],
   "source": [
    "model = pd.read_csv('ModelsRerankingFinal-rank/reranking_model_5_old.txt', sep=\"\t\", header = None)\n",
    "model.columns = ['quid_model','count_model', 'rank_model']\n",
    "model.head(10)"
   ]
  },
  {
   "cell_type": "markdown",
   "metadata": {},
   "source": [
    "Data Frame (df) with quids, original relevance labels and new ranking ('rank') produced by RankNet model:"
   ]
  },
  {
   "cell_type": "code",
   "execution_count": 4,
   "metadata": {
    "collapsed": false
   },
   "outputs": [
    {
     "data": {
      "text/html": [
       "<div>\n",
       "<table border=\"1\" class=\"dataframe\">\n",
       "  <thead>\n",
       "    <tr style=\"text-align: right;\">\n",
       "      <th></th>\n",
       "      <th>quid</th>\n",
       "      <th>rel</th>\n",
       "      <th>rank_model</th>\n",
       "    </tr>\n",
       "  </thead>\n",
       "  <tbody>\n",
       "    <tr>\n",
       "      <th>0</th>\n",
       "      <td>13</td>\n",
       "      <td>2</td>\n",
       "      <td>0.473997</td>\n",
       "    </tr>\n",
       "    <tr>\n",
       "      <th>1</th>\n",
       "      <td>13</td>\n",
       "      <td>1</td>\n",
       "      <td>0.473997</td>\n",
       "    </tr>\n",
       "    <tr>\n",
       "      <th>2</th>\n",
       "      <td>13</td>\n",
       "      <td>3</td>\n",
       "      <td>0.473997</td>\n",
       "    </tr>\n",
       "    <tr>\n",
       "      <th>3</th>\n",
       "      <td>13</td>\n",
       "      <td>1</td>\n",
       "      <td>0.431526</td>\n",
       "    </tr>\n",
       "    <tr>\n",
       "      <th>4</th>\n",
       "      <td>13</td>\n",
       "      <td>0</td>\n",
       "      <td>0.442372</td>\n",
       "    </tr>\n",
       "    <tr>\n",
       "      <th>5</th>\n",
       "      <td>13</td>\n",
       "      <td>0</td>\n",
       "      <td>0.485951</td>\n",
       "    </tr>\n",
       "    <tr>\n",
       "      <th>6</th>\n",
       "      <td>13</td>\n",
       "      <td>1</td>\n",
       "      <td>0.473997</td>\n",
       "    </tr>\n",
       "    <tr>\n",
       "      <th>7</th>\n",
       "      <td>13</td>\n",
       "      <td>0</td>\n",
       "      <td>0.473997</td>\n",
       "    </tr>\n",
       "    <tr>\n",
       "      <th>8</th>\n",
       "      <td>13</td>\n",
       "      <td>0</td>\n",
       "      <td>0.489055</td>\n",
       "    </tr>\n",
       "    <tr>\n",
       "      <th>9</th>\n",
       "      <td>13</td>\n",
       "      <td>2</td>\n",
       "      <td>0.473997</td>\n",
       "    </tr>\n",
       "  </tbody>\n",
       "</table>\n",
       "</div>"
      ],
      "text/plain": [
       "  quid  rel  rank_model\n",
       "0   13    2    0.473997\n",
       "1   13    1    0.473997\n",
       "2   13    3    0.473997\n",
       "3   13    1    0.431526\n",
       "4   13    0    0.442372\n",
       "5   13    0    0.485951\n",
       "6   13    1    0.473997\n",
       "7   13    0    0.473997\n",
       "8   13    0    0.489055\n",
       "9   13    2    0.473997"
      ]
     },
     "execution_count": 4,
     "metadata": {},
     "output_type": "execute_result"
    }
   ],
   "source": [
    "df = pd.concat([df_test['quid'], df_test['rel'], model['rank_model']], axis=1)\n",
    "df.head(10)"
   ]
  },
  {
   "cell_type": "code",
   "execution_count": 5,
   "metadata": {
    "collapsed": false
   },
   "outputs": [
    {
     "data": {
      "text/html": [
       "<div>\n",
       "<table border=\"1\" class=\"dataframe\">\n",
       "  <thead>\n",
       "    <tr style=\"text-align: right;\">\n",
       "      <th></th>\n",
       "      <th></th>\n",
       "      <th>quid</th>\n",
       "      <th>rel</th>\n",
       "      <th>rank_model</th>\n",
       "      <th>rank</th>\n",
       "    </tr>\n",
       "    <tr>\n",
       "      <th>quid</th>\n",
       "      <th></th>\n",
       "      <th></th>\n",
       "      <th></th>\n",
       "      <th></th>\n",
       "      <th></th>\n",
       "    </tr>\n",
       "  </thead>\n",
       "  <tbody>\n",
       "    <tr>\n",
       "      <th rowspan=\"10\" valign=\"top\">10003</th>\n",
       "      <th>79837</th>\n",
       "      <td>10003</td>\n",
       "      <td>2</td>\n",
       "      <td>0.511708</td>\n",
       "      <td>1</td>\n",
       "    </tr>\n",
       "    <tr>\n",
       "      <th>79799</th>\n",
       "      <td>10003</td>\n",
       "      <td>1</td>\n",
       "      <td>0.511708</td>\n",
       "      <td>2</td>\n",
       "    </tr>\n",
       "    <tr>\n",
       "      <th>79865</th>\n",
       "      <td>10003</td>\n",
       "      <td>0</td>\n",
       "      <td>0.511708</td>\n",
       "      <td>3</td>\n",
       "    </tr>\n",
       "    <tr>\n",
       "      <th>79862</th>\n",
       "      <td>10003</td>\n",
       "      <td>0</td>\n",
       "      <td>0.511708</td>\n",
       "      <td>4</td>\n",
       "    </tr>\n",
       "    <tr>\n",
       "      <th>79808</th>\n",
       "      <td>10003</td>\n",
       "      <td>0</td>\n",
       "      <td>0.511708</td>\n",
       "      <td>5</td>\n",
       "    </tr>\n",
       "    <tr>\n",
       "      <th>79776</th>\n",
       "      <td>10003</td>\n",
       "      <td>1</td>\n",
       "      <td>0.511708</td>\n",
       "      <td>6</td>\n",
       "    </tr>\n",
       "    <tr>\n",
       "      <th>79830</th>\n",
       "      <td>10003</td>\n",
       "      <td>0</td>\n",
       "      <td>0.511708</td>\n",
       "      <td>7</td>\n",
       "    </tr>\n",
       "    <tr>\n",
       "      <th>79855</th>\n",
       "      <td>10003</td>\n",
       "      <td>0</td>\n",
       "      <td>0.511708</td>\n",
       "      <td>8</td>\n",
       "    </tr>\n",
       "    <tr>\n",
       "      <th>79853</th>\n",
       "      <td>10003</td>\n",
       "      <td>1</td>\n",
       "      <td>0.511708</td>\n",
       "      <td>9</td>\n",
       "    </tr>\n",
       "    <tr>\n",
       "      <th>79832</th>\n",
       "      <td>10003</td>\n",
       "      <td>3</td>\n",
       "      <td>0.511708</td>\n",
       "      <td>10</td>\n",
       "    </tr>\n",
       "  </tbody>\n",
       "</table>\n",
       "</div>"
      ],
      "text/plain": [
       "              quid  rel  rank_model  rank\n",
       "quid                                     \n",
       "10003 79837  10003    2    0.511708     1\n",
       "      79799  10003    1    0.511708     2\n",
       "      79865  10003    0    0.511708     3\n",
       "      79862  10003    0    0.511708     4\n",
       "      79808  10003    0    0.511708     5\n",
       "      79776  10003    1    0.511708     6\n",
       "      79830  10003    0    0.511708     7\n",
       "      79855  10003    0    0.511708     8\n",
       "      79853  10003    1    0.511708     9\n",
       "      79832  10003    3    0.511708    10"
      ]
     },
     "execution_count": 5,
     "metadata": {},
     "output_type": "execute_result"
    }
   ],
   "source": [
    "#Sort by the rank_model (score provided as output by RankNet model RankLib) and compare with orignal relevance labels:\n",
    "df_new_rank = df.groupby('quid').apply(lambda x: x.sort_values(['rank_model'],ascending = False))\n",
    "df_new_rank['rank'] = df_new_rank.groupby('quid').cumcount()+1\n",
    "df_new_rank.head(10)"
   ]
  },
  {
   "cell_type": "markdown",
   "metadata": {},
   "source": [
    "## Evaluation: MAP"
   ]
  },
  {
   "cell_type": "code",
   "execution_count": 12,
   "metadata": {
    "collapsed": false
   },
   "outputs": [
    {
     "data": {
      "text/plain": [
       "0.4651467459670899"
      ]
     },
     "execution_count": 12,
     "metadata": {},
     "output_type": "execute_result"
    }
   ],
   "source": [
    "df_MAP = pd.concat([df_new_rank['quid'], df_new_rank['rel'], df_new_rank['rank_model'],df_new_rank['rank']], axis=1)\n",
    "\n",
    "#expressing relevance in binary format\n",
    "df_MAP['rel'] = np.where(df_MAP['rel'] >=1, 1,0)\n",
    "#inserting column with cumulative sum of relevance:\n",
    "df_MAP['rel_cum_sum'] = df_MAP.groupby('quid')['rel'].cumsum()\n",
    "\n",
    "# Precision:\n",
    "df_MAP['precision'] = (df_MAP['rel_cum_sum']*df_MAP['rel'])/df_MAP['rank']\n",
    "\n",
    "def MAP(df):\n",
    "    # AP - average precision per query:\n",
    "    precision_sum = df_MAP.groupby('quid')['precision'].sum()\n",
    "    rel_sum = df_MAP.groupby('quid')['rel'].sum()\n",
    "    AP = precision_sum / rel_sum\n",
    "    \n",
    "    # MAP - mean average precision of the system for all queries\n",
    "    MAP = AP.sum() / len(AP)\n",
    "    return MAP\n",
    "\n",
    "MAP(df_MAP)"
   ]
  },
  {
   "cell_type": "markdown",
   "metadata": {},
   "source": [
    "## Evaluation: NDCG@10"
   ]
  },
  {
   "cell_type": "markdown",
   "metadata": {},
   "source": [
    "Discounted Cumulative Gain (DCG):"
   ]
  },
  {
   "cell_type": "code",
   "execution_count": 20,
   "metadata": {
    "collapsed": false
   },
   "outputs": [],
   "source": [
    "#creating a new dataframe with quid, rel and rank for DCG Dicounted Cumulative Gain\n",
    "df_NDCG = pd.concat([df_new_rank['quid'], df_new_rank['rel'], df_new_rank['rank']], axis=1)\n",
    "df_NDCG = df_NDCG.groupby('quid').head(10)\n",
    "\n",
    "#Gain:\n",
    "df_NDCG['gain'] = (2**df_NDCG['rel'])-1\n",
    "\n",
    "df_NDCG['rank+1'] = df_NDCG['rank']+1\n",
    "\n",
    "#Discount by Rank:\n",
    "df_NDCG['discount'] = np.log2(df_NDCG['rank+1'])\n",
    "\n",
    "#Discounted Gain:\n",
    "df_NDCG['discounted_gain'] = df_NDCG['gain']/df_NDCG['discount']\n",
    "\n",
    "#DCG - Discounted Cumulative Gain per quid:\n",
    "DCG = df_NDCG.groupby(by=['quid'])['discounted_gain'].sum()"
   ]
  },
  {
   "cell_type": "markdown",
   "metadata": {},
   "source": [
    "Optimal Discounted Cumulitave Gain (optDCG):"
   ]
  },
  {
   "cell_type": "code",
   "execution_count": 21,
   "metadata": {
    "collapsed": false
   },
   "outputs": [
    {
     "name": "stderr",
     "output_type": "stream",
     "text": [
      "/anaconda/lib/python3.6/site-packages/ipykernel/__main__.py:4: FutureWarning: order is deprecated, use sort_values(...)\n"
     ]
    }
   ],
   "source": [
    "#optDCG: optimal Dicounted Cumulative Gain\n",
    "df_opt_NDCG = pd.concat([df_new_rank['quid'], df_new_rank['rel']], axis=1, keys=['quid', 'rel'])\n",
    "\n",
    "opt_NDCG = df_opt_NDCG.groupby('quid')['rel'].apply(lambda x: x.order(ascending=False)).reset_index()\n",
    "opt_NDCG['rank'] = opt_NDCG.groupby('quid').cumcount()+1\n",
    "opt_NDCG = opt_NDCG.groupby('quid').head(10)\n"
   ]
  },
  {
   "cell_type": "code",
   "execution_count": 22,
   "metadata": {
    "collapsed": false
   },
   "outputs": [],
   "source": [
    "#opt DCG: Dicounted Cumulative Gain\n",
    "#Gain:\n",
    "opt_NDCG['gain'] = (2**opt_NDCG['rel'])-1\n",
    "\n",
    "opt_NDCG['rank+1'] = opt_NDCG['rank']+1\n",
    "\n",
    "#Discount by Rank:\n",
    "opt_NDCG['discount'] = np.log2(opt_NDCG['rank+1'])\n",
    "\n",
    "#Discounted Gain:\n",
    "opt_NDCG['discounted_gain'] = opt_NDCG['gain']/opt_NDCG['discount']\n",
    "\n",
    "#opt DCG - Discounted Cumulative Gain per quid:\n",
    "optDCG = opt_NDCG.groupby(by=['quid'])['discounted_gain'].sum()\n"
   ]
  },
  {
   "cell_type": "markdown",
   "metadata": {},
   "source": [
    "Normalized Discounted Cumulative Gain (NDCG):"
   ]
  },
  {
   "cell_type": "code",
   "execution_count": 26,
   "metadata": {
    "collapsed": false
   },
   "outputs": [
    {
     "data": {
      "text/plain": [
       "0.2058348591733164"
      ]
     },
     "execution_count": 26,
     "metadata": {},
     "output_type": "execute_result"
    }
   ],
   "source": [
    "#avg NDCG for the system:\n",
    "NDCG = DCG/optDCG\n",
    "NDCG = np.nan_to_num(NDCG)\n",
    "avg_NDCG = sum(NDCG)/len(NDCG)\n",
    "avg_NDCG"
   ]
  },
  {
   "cell_type": "code",
   "execution_count": null,
   "metadata": {
    "collapsed": true
   },
   "outputs": [],
   "source": []
  }
 ],
 "metadata": {
  "kernelspec": {
   "display_name": "Python 3",
   "language": "python",
   "name": "python3"
  },
  "language_info": {
   "codemirror_mode": {
    "name": "ipython",
    "version": 3
   },
   "file_extension": ".py",
   "mimetype": "text/x-python",
   "name": "python",
   "nbconvert_exporter": "python",
   "pygments_lexer": "ipython3",
   "version": "3.6.0"
  }
 },
 "nbformat": 4,
 "nbformat_minor": 2
}
