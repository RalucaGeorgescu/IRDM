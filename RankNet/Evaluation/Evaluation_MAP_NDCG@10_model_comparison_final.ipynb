{
 "cells": [
  {
   "cell_type": "code",
   "execution_count": 69,
   "metadata": {
    "collapsed": false
   },
   "outputs": [],
   "source": [
    "import matplotlib.pyplot as plt; plt.rcdefaults()\n",
    "import numpy as np\n",
    "import pandas as pd\n",
    "import plotly.plotly as py"
   ]
  },
  {
   "cell_type": "markdown",
   "metadata": {},
   "source": [
    "Description: the below code evaluates all the models using MAP and NDCG@10 metrics and compares the models based on these metrics."
   ]
  },
  {
   "cell_type": "markdown",
   "metadata": {},
   "source": [
    "Data Upload:"
   ]
  },
  {
   "cell_type": "code",
   "execution_count": 25,
   "metadata": {
    "collapsed": false
   },
   "outputs": [],
   "source": [
    "#Loading the test file:\n",
    "def load_test_file(file_test):\n",
    "    #original test.txt (Fold 1) with relevance values:\n",
    "    df_test = pd.read_csv(file_test, sep=\" \", header = None)\n",
    "    #data cleaning:\n",
    "    df_test[1] = df_test[1].map(lambda x: x.lstrip('qid:'))      \n",
    "    df_test.insert(0, 'quid', df_test[1])\n",
    "    df_test.insert(1, 'rel', df_test[0])\n",
    "    df_test = pd.concat([df_test['quid'], df_test['rel']], axis=1, keys=['quid', 'rel'])\n",
    "    return df_test\n",
    "\n",
    "#Loading the reranked file with the scores: \n",
    "def load_reranked_file(file_reranked):\n",
    "    model = pd.read_csv(file_reranked, sep=\"\t\", header = None)\n",
    "    model.columns = ['quid_model','count_model', 'rank_model']\n",
    "    return model\n",
    "\n",
    "#Concatinates files: includes original relevance labels from the test.txt file and sorts the scores in descending order to \n",
    "#in order to provide final ranking by the model:\n",
    "def final_ranking(df_test, model):\n",
    "    df = pd.concat([df_test['quid'], df_test['rel'], model['rank_model']], axis=1)\n",
    "    df_new_rank = df.groupby('quid').apply(lambda x: x.sort_values(['rank_model'],ascending = False))\n",
    "    df_new_rank['rank'] = df_new_rank.groupby('quid').cumcount()+1\n",
    "    return df_new_rank"
   ]
  },
  {
   "cell_type": "markdown",
   "metadata": {},
   "source": [
    "MAP:"
   ]
  },
  {
   "cell_type": "code",
   "execution_count": 26,
   "metadata": {
    "collapsed": false
   },
   "outputs": [],
   "source": [
    "def MAP(df_new_rank):\n",
    "    df_MAP = pd.concat([df_new_rank['quid'], df_new_rank['rel'], df_new_rank['rank_model'],df_new_rank['rank']], axis=1)\n",
    "    \n",
    "    #expressing relevance in binary format\n",
    "    df_MAP['rel'] = np.where(df_MAP['rel'] >=1, 1,0)\n",
    "    \n",
    "    #inserting column with cumulative sum of relevance:\n",
    "    df_MAP['rel_cum_sum'] = df_MAP.groupby('quid')['rel'].cumsum()\n",
    "    \n",
    "    # Precision:\n",
    "    df_MAP['precision'] = (df_MAP['rel_cum_sum']*df_MAP['rel'])/df_MAP['rank']\n",
    "    \n",
    "    # AP - average precision per query:\n",
    "    precision_sum = df_MAP.groupby('quid')['precision'].sum()\n",
    "    rel_sum = df_MAP.groupby('quid')['rel'].sum()\n",
    "    AP = precision_sum / rel_sum\n",
    "    \n",
    "    # MAP - mean average precision of the system for all queries\n",
    "    MAP = AP.sum() / len(AP)\n",
    "    return MAP"
   ]
  },
  {
   "cell_type": "markdown",
   "metadata": {},
   "source": [
    "NDCG@10:"
   ]
  },
  {
   "cell_type": "code",
   "execution_count": 27,
   "metadata": {
    "collapsed": true
   },
   "outputs": [],
   "source": [
    "#Discounted Cumulative Gain (DCG):\n",
    "\n",
    "def NDCG10(df_new_rank):\n",
    "    #Discounted Cumulative Gain (DCG):\n",
    "    #creating a new dataframe with quid, rel and rank for DCG Dicounted Cumulative Gain\n",
    "    df_NDCG = pd.concat([df_new_rank['quid'], df_new_rank['rel'], df_new_rank['rank']], axis=1)\n",
    "    df_NDCG = df_NDCG.groupby('quid').head(10)\n",
    "    #Gain:\n",
    "    df_NDCG['gain'] = (2**df_NDCG['rel'])-1\n",
    "    df_NDCG['rank+1'] = df_NDCG['rank']+1\n",
    "    #Discount by Rank:\n",
    "    df_NDCG['discount'] = np.log2(df_NDCG['rank+1'])\n",
    "    #Discounted Gain:\n",
    "    df_NDCG['discounted_gain'] = df_NDCG['gain']/df_NDCG['discount']\n",
    "    #DCG - Discounted Cumulative Gain per quid:\n",
    "    DCG = df_NDCG.groupby(by=['quid'])['discounted_gain'].sum()\n",
    "    \n",
    "    #Optimal Discounted Cumulitave Gain (optDCG):\n",
    "    #optDCG: optimal Dicounted Cumulative Gain\n",
    "    df_opt_NDCG = pd.concat([df_new_rank['quid'], df_new_rank['rel']], axis=1, keys=['quid', 'rel'])\n",
    "    opt_NDCG = df_opt_NDCG.groupby('quid')['rel'].apply(lambda x: x.order(ascending=False)).reset_index()\n",
    "    opt_NDCG['rank'] = opt_NDCG.groupby('quid').cumcount()+1\n",
    "    opt_NDCG = opt_NDCG.groupby('quid').head(10)\n",
    "    #opt DCG: Dicounted Cumulative Gain\n",
    "    #Gain:\n",
    "    opt_NDCG['gain'] = (2**opt_NDCG['rel'])-1\n",
    "    opt_NDCG['rank+1'] = opt_NDCG['rank']+1\n",
    "    #Discount by Rank:\n",
    "    opt_NDCG['discount'] = np.log2(opt_NDCG['rank+1'])\n",
    "    #Discounted Gain:\n",
    "    opt_NDCG['discounted_gain'] = opt_NDCG['gain']/opt_NDCG['discount']\n",
    "    #opt DCG - Discounted Cumulative Gain per quid:\n",
    "    optDCG = opt_NDCG.groupby(by=['quid'])['discounted_gain'].sum()\n",
    "\n",
    "    #Normalized Discounted Cumulative Gain (NDCG):\n",
    "    #avg NDCG for the system:\n",
    "    NDCG = DCG/optDCG\n",
    "    NDCG = np.nan_to_num(NDCG)\n",
    "    avg_NDCG = sum(NDCG)/len(NDCG)\n",
    "    return avg_NDCG\n"
   ]
  },
  {
   "cell_type": "code",
   "execution_count": 44,
   "metadata": {
    "collapsed": true
   },
   "outputs": [],
   "source": [
    "#Defining test.txt file and all 13 models:\n",
    "file_test = 'test.txt'\n",
    "file_reranked_1= 'RankNetRerank/reranked_trial1.txt'\n",
    "file_reranked_2= 'RankNetRerank/reranked_trial2.txt'\n",
    "file_reranked_3= 'RankNetRerank/reranked_trial3.txt'\n",
    "file_reranked_4= 'RankNetRerank/reranked_trial4.txt'\n",
    "file_reranked_5= 'RankNetRerank/reranked_trial5.txt'\n",
    "file_reranked_6= 'RankNetRerank/reranked_trial6.txt'\n",
    "file_reranked_7= 'RankNetRerank/reranked_trial7.txt'\n",
    "file_reranked_8= 'RankNetRerank/reranked_trial8.txt'\n",
    "file_reranked_9= 'RankNetRerank/reranked_trial9.txt'\n",
    "file_reranked_10= 'RankNetRerank/reranked_trial10.txt'\n",
    "file_reranked_11= 'RankNetRerank/reranked_trial11.txt'\n",
    "file_reranked_12= 'RankNetRerank/reranked_trial12.txt'\n",
    "file_reranked_13= 'RankNetRerank/reranked_trial13.txt'\n",
    "\n",
    "\n",
    "#Loading test.txt file and all 13 models:\n",
    "test = load_test_file(file_test)\n",
    "model1 = load_reranked_file(file_reranked_1)\n",
    "model2 = load_reranked_file(file_reranked_2)\n",
    "model3 = load_reranked_file(file_reranked_3)\n",
    "model4 = load_reranked_file(file_reranked_4)\n",
    "model5 = load_reranked_file(file_reranked_5)\n",
    "model6 = load_reranked_file(file_reranked_6)\n",
    "model7 = load_reranked_file(file_reranked_7)\n",
    "model8 = load_reranked_file(file_reranked_8)\n",
    "model9 = load_reranked_file(file_reranked_9)\n",
    "model10 = load_reranked_file(file_reranked_10)\n",
    "model11 = load_reranked_file(file_reranked_11)\n",
    "model12 = load_reranked_file(file_reranked_12)\n",
    "model13 = load_reranked_file(file_reranked_13)\n"
   ]
  },
  {
   "cell_type": "code",
   "execution_count": 57,
   "metadata": {
    "collapsed": false
   },
   "outputs": [],
   "source": [
    "#Evaluating all models:\n",
    "df1 = final_ranking(test, model1)\n",
    "df2 = final_ranking(test, model2)\n",
    "df3 = final_ranking(test, model3)\n",
    "df4 = final_ranking(test, model4)\n",
    "df5 = final_ranking(test, model5)\n",
    "df6 = final_ranking(test, model6)\n",
    "df7 = final_ranking(test, model7)\n",
    "df8 = final_ranking(test, model8)\n",
    "df9 = final_ranking(test, model9)\n",
    "df10 = final_ranking(test, model10)\n",
    "df11 = final_ranking(test, model11)\n",
    "df12 = final_ranking(test, model12)\n",
    "df13 = final_ranking(test, model13)\n"
   ]
  },
  {
   "cell_type": "code",
   "execution_count": 61,
   "metadata": {
    "collapsed": false
   },
   "outputs": [
    {
     "name": "stderr",
     "output_type": "stream",
     "text": [
      "/anaconda/lib/python3.6/site-packages/ipykernel/__main__.py:21: FutureWarning: order is deprecated, use sort_values(...)\n"
     ]
    }
   ],
   "source": [
    "MAP_val = [MAP(df1), MAP(df2), MAP(df3),MAP(df4),MAP(df5),MAP(df6),MAP(df7),MAP(df8),MAP(df9),MAP(df10),MAP(df11),MAP(df12),MAP(df13)]\n",
    "NDCG10_val = [NDCG10(df1), NDCG10(df2), NDCG10(df3),NDCG10(df4),NDCG10(df5),NDCG10(df6),NDCG10(df7),NDCG10(df8),NDCG10(df9),NDCG10(df10),NDCG10(df11),NDCG10(df12),NDCG10(df13)]"
   ]
  },
  {
   "cell_type": "code",
   "execution_count": 95,
   "metadata": {
    "collapsed": false
   },
   "outputs": [
    {
     "data": {
      "text/html": [
       "<div>\n",
       "<table border=\"1\" class=\"dataframe\">\n",
       "  <thead>\n",
       "    <tr style=\"text-align: right;\">\n",
       "      <th></th>\n",
       "      <th>Model</th>\n",
       "      <th>MAP</th>\n",
       "      <th>NDCG@10</th>\n",
       "    </tr>\n",
       "  </thead>\n",
       "  <tbody>\n",
       "    <tr>\n",
       "      <th>0</th>\n",
       "      <td>Model1</td>\n",
       "      <td>0.470518</td>\n",
       "      <td>0.197097</td>\n",
       "    </tr>\n",
       "    <tr>\n",
       "      <th>1</th>\n",
       "      <td>Model2</td>\n",
       "      <td>0.475446</td>\n",
       "      <td>0.199574</td>\n",
       "    </tr>\n",
       "    <tr>\n",
       "      <th>2</th>\n",
       "      <td>Model3</td>\n",
       "      <td>0.460084</td>\n",
       "      <td>0.192611</td>\n",
       "    </tr>\n",
       "    <tr>\n",
       "      <th>3</th>\n",
       "      <td>Model4</td>\n",
       "      <td>0.475702</td>\n",
       "      <td>0.197435</td>\n",
       "    </tr>\n",
       "    <tr>\n",
       "      <th>4</th>\n",
       "      <td>Model5</td>\n",
       "      <td>0.471130</td>\n",
       "      <td>0.180065</td>\n",
       "    </tr>\n",
       "    <tr>\n",
       "      <th>5</th>\n",
       "      <td>Model6</td>\n",
       "      <td>0.465515</td>\n",
       "      <td>0.180614</td>\n",
       "    </tr>\n",
       "    <tr>\n",
       "      <th>6</th>\n",
       "      <td>Model7</td>\n",
       "      <td>0.466614</td>\n",
       "      <td>0.183121</td>\n",
       "    </tr>\n",
       "    <tr>\n",
       "      <th>7</th>\n",
       "      <td>Model8</td>\n",
       "      <td>0.468796</td>\n",
       "      <td>0.196259</td>\n",
       "    </tr>\n",
       "    <tr>\n",
       "      <th>8</th>\n",
       "      <td>Model9</td>\n",
       "      <td>0.467075</td>\n",
       "      <td>0.183019</td>\n",
       "    </tr>\n",
       "    <tr>\n",
       "      <th>9</th>\n",
       "      <td>Model10</td>\n",
       "      <td>0.468495</td>\n",
       "      <td>0.193129</td>\n",
       "    </tr>\n",
       "    <tr>\n",
       "      <th>10</th>\n",
       "      <td>Model11</td>\n",
       "      <td>0.465924</td>\n",
       "      <td>0.182569</td>\n",
       "    </tr>\n",
       "    <tr>\n",
       "      <th>11</th>\n",
       "      <td>Model12</td>\n",
       "      <td>0.468183</td>\n",
       "      <td>0.184402</td>\n",
       "    </tr>\n",
       "    <tr>\n",
       "      <th>12</th>\n",
       "      <td>Model13</td>\n",
       "      <td>0.468032</td>\n",
       "      <td>0.184182</td>\n",
       "    </tr>\n",
       "  </tbody>\n",
       "</table>\n",
       "</div>"
      ],
      "text/plain": [
       "      Model       MAP   NDCG@10\n",
       "0    Model1  0.470518  0.197097\n",
       "1    Model2  0.475446  0.199574\n",
       "2    Model3  0.460084  0.192611\n",
       "3    Model4  0.475702  0.197435\n",
       "4    Model5  0.471130  0.180065\n",
       "5    Model6  0.465515  0.180614\n",
       "6    Model7  0.466614  0.183121\n",
       "7    Model8  0.468796  0.196259\n",
       "8    Model9  0.467075  0.183019\n",
       "9   Model10  0.468495  0.193129\n",
       "10  Model11  0.465924  0.182569\n",
       "11  Model12  0.468183  0.184402\n",
       "12  Model13  0.468032  0.184182"
      ]
     },
     "execution_count": 95,
     "metadata": {},
     "output_type": "execute_result"
    }
   ],
   "source": [
    "models_all = ('Model1', 'Model2', 'Model3', 'Model4', 'Model5', 'Model6', 'Model7', 'Model8','Model9','Model10','Model11','Model12','Model13')\n",
    "df = pd.DataFrame({'NDCG@10':NDCG10_val, 'Model': models_all,'MAP':MAP_val})\n",
    "df = df[['Model', 'MAP', 'NDCG@10']]\n",
    "df"
   ]
  }
 ],
 "metadata": {
  "kernelspec": {
   "display_name": "Python 3",
   "language": "python",
   "name": "python3"
  },
  "language_info": {
   "codemirror_mode": {
    "name": "ipython",
    "version": 3
   },
   "file_extension": ".py",
   "mimetype": "text/x-python",
   "name": "python",
   "nbconvert_exporter": "python",
   "pygments_lexer": "ipython3",
   "version": "3.6.0"
  }
 },
 "nbformat": 4,
 "nbformat_minor": 2
}
