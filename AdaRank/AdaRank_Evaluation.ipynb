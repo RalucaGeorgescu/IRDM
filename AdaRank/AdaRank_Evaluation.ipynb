{
 "cells": [
  {
   "cell_type": "markdown",
   "metadata": {},
   "source": [
    "## AdaRank Evaluation"
   ]
  },
  {
   "cell_type": "code",
   "execution_count": 11,
   "metadata": {
    "collapsed": true,
    "deletable": true,
    "editable": true
   },
   "outputs": [],
   "source": [
    "%matplotlib inline\n",
    "from os.path import join\n",
    "from time import time\n",
    "import numpy as np\n",
    "import pandas as pd\n",
    "import matplotlib.pyplot as plt\n",
    "\n",
    "from sklearn.metrics import r2_score\n",
    "\n",
    "from sklearn.linear_model import LinearRegression"
   ]
  },
  {
   "cell_type": "markdown",
   "metadata": {},
   "source": [
    "These scores are obtained from the run of AdaRank on Fold5 with -noeq flag and -max number of consecutively sampled features set to 1. The analysis investigated why the scores have negative values and ranks them."
   ]
  },
  {
   "cell_type": "code",
   "execution_count": 110,
   "metadata": {
    "collapsed": false,
    "deletable": true,
    "editable": true
   },
   "outputs": [
    {
     "data": {
      "text/html": [
       "<div>\n",
       "<table border=\"1\" class=\"dataframe\">\n",
       "  <thead>\n",
       "    <tr style=\"text-align: right;\">\n",
       "      <th></th>\n",
       "      <th>qid</th>\n",
       "      <th>relevance_label</th>\n",
       "    </tr>\n",
       "  </thead>\n",
       "  <tbody>\n",
       "    <tr>\n",
       "      <th>0</th>\n",
       "      <td>10</td>\n",
       "      <td>0</td>\n",
       "    </tr>\n",
       "    <tr>\n",
       "      <th>1</th>\n",
       "      <td>10</td>\n",
       "      <td>0</td>\n",
       "    </tr>\n",
       "    <tr>\n",
       "      <th>2</th>\n",
       "      <td>10</td>\n",
       "      <td>1</td>\n",
       "    </tr>\n",
       "    <tr>\n",
       "      <th>3</th>\n",
       "      <td>10</td>\n",
       "      <td>0</td>\n",
       "    </tr>\n",
       "    <tr>\n",
       "      <th>4</th>\n",
       "      <td>10</td>\n",
       "      <td>1</td>\n",
       "    </tr>\n",
       "  </tbody>\n",
       "</table>\n",
       "</div>"
      ],
      "text/plain": [
       "  qid  relevance_label\n",
       "0  10                0\n",
       "1  10                0\n",
       "2  10                1\n",
       "3  10                0\n",
       "4  10                1"
      ]
     },
     "execution_count": 110,
     "metadata": {},
     "output_type": "execute_result"
    }
   ],
   "source": [
    "test_data = pd.read_csv('/Users/ralucageorgescu/Documents/MSLR-WEB10K/Fold5/test.txt', sep=\" \", header = None)\n",
    "test_data[1] = test_data[1].map(lambda x:x.lstrip('qid:'))\n",
    "test_data_q_rel = pd.concat([test_data[1], test_data[0]], axis=1, keys=['qid', 'relevance_label'])\n",
    "test_data_q_rel[:5]"
   ]
  },
  {
   "cell_type": "code",
   "execution_count": 111,
   "metadata": {
    "collapsed": false,
    "deletable": true,
    "editable": true
   },
   "outputs": [
    {
     "data": {
      "text/html": [
       "<div>\n",
       "<table border=\"1\" class=\"dataframe\">\n",
       "  <thead>\n",
       "    <tr style=\"text-align: right;\">\n",
       "      <th></th>\n",
       "      <th>qid</th>\n",
       "      <th>docid</th>\n",
       "      <th>score</th>\n",
       "      <th>relevance_label</th>\n",
       "    </tr>\n",
       "  </thead>\n",
       "  <tbody>\n",
       "    <tr>\n",
       "      <th>0</th>\n",
       "      <td>10</td>\n",
       "      <td>0</td>\n",
       "      <td>-5.294102</td>\n",
       "      <td>0</td>\n",
       "    </tr>\n",
       "    <tr>\n",
       "      <th>1</th>\n",
       "      <td>10</td>\n",
       "      <td>1</td>\n",
       "      <td>0.777860</td>\n",
       "      <td>0</td>\n",
       "    </tr>\n",
       "    <tr>\n",
       "      <th>2</th>\n",
       "      <td>10</td>\n",
       "      <td>2</td>\n",
       "      <td>2.404690</td>\n",
       "      <td>1</td>\n",
       "    </tr>\n",
       "    <tr>\n",
       "      <th>3</th>\n",
       "      <td>10</td>\n",
       "      <td>3</td>\n",
       "      <td>0.330672</td>\n",
       "      <td>0</td>\n",
       "    </tr>\n",
       "    <tr>\n",
       "      <th>4</th>\n",
       "      <td>10</td>\n",
       "      <td>4</td>\n",
       "      <td>2.337713</td>\n",
       "      <td>1</td>\n",
       "    </tr>\n",
       "    <tr>\n",
       "      <th>5</th>\n",
       "      <td>10</td>\n",
       "      <td>5</td>\n",
       "      <td>4367.257274</td>\n",
       "      <td>2</td>\n",
       "    </tr>\n",
       "    <tr>\n",
       "      <th>6</th>\n",
       "      <td>10</td>\n",
       "      <td>6</td>\n",
       "      <td>3.473539</td>\n",
       "      <td>1</td>\n",
       "    </tr>\n",
       "    <tr>\n",
       "      <th>7</th>\n",
       "      <td>10</td>\n",
       "      <td>7</td>\n",
       "      <td>1.213004</td>\n",
       "      <td>1</td>\n",
       "    </tr>\n",
       "    <tr>\n",
       "      <th>8</th>\n",
       "      <td>10</td>\n",
       "      <td>8</td>\n",
       "      <td>-5.941709</td>\n",
       "      <td>0</td>\n",
       "    </tr>\n",
       "    <tr>\n",
       "      <th>9</th>\n",
       "      <td>10</td>\n",
       "      <td>9</td>\n",
       "      <td>-5.002998</td>\n",
       "      <td>0</td>\n",
       "    </tr>\n",
       "  </tbody>\n",
       "</table>\n",
       "</div>"
      ],
      "text/plain": [
       "   qid  docid        score  relevance_label\n",
       "0   10      0    -5.294102                0\n",
       "1   10      1     0.777860                0\n",
       "2   10      2     2.404690                1\n",
       "3   10      3     0.330672                0\n",
       "4   10      4     2.337713                1\n",
       "5   10      5  4367.257274                2\n",
       "6   10      6     3.473539                1\n",
       "7   10      7     1.213004                1\n",
       "8   10      8    -5.941709                0\n",
       "9   10      9    -5.002998                0"
      ]
     },
     "execution_count": 111,
     "metadata": {},
     "output_type": "execute_result"
    }
   ],
   "source": [
    "data = pd.read_table('/Users/ralucageorgescu/Documents/scores.txt')\n",
    "data['relevance_label'] = test_data[0]\n",
    "data[:10]"
   ]
  },
  {
   "cell_type": "markdown",
   "metadata": {
    "deletable": true,
    "editable": true
   },
   "source": [
    "## Stats on test set"
   ]
  },
  {
   "cell_type": "markdown",
   "metadata": {
    "deletable": true,
    "editable": true
   },
   "source": [
    "Number of queries that have at most 10 documents associated"
   ]
  },
  {
   "cell_type": "code",
   "execution_count": 101,
   "metadata": {
    "collapsed": false,
    "deletable": true,
    "editable": true
   },
   "outputs": [
    {
     "name": "stdout",
     "output_type": "stream",
     "text": [
      "39\n"
     ]
    }
   ],
   "source": [
    "number = 0\n",
    "for count in doc_counts_per_query:\n",
    "    if count <= 10:\n",
    "        number += 1\n",
    "print(number)"
   ]
  },
  {
   "cell_type": "markdown",
   "metadata": {
    "deletable": true,
    "editable": true
   },
   "source": [
    "Number of queries in the test set"
   ]
  },
  {
   "cell_type": "code",
   "execution_count": 99,
   "metadata": {
    "collapsed": false,
    "deletable": true,
    "editable": true
   },
   "outputs": [
    {
     "data": {
      "text/plain": [
       "2000"
      ]
     },
     "execution_count": 99,
     "metadata": {},
     "output_type": "execute_result"
    }
   ],
   "source": [
    "groupby_query = qs.groupby('qid')\n",
    "groups = groupby_query.groups\n",
    "len(groups)"
   ]
  },
  {
   "cell_type": "code",
   "execution_count": 21,
   "metadata": {
    "collapsed": false,
    "deletable": true,
    "editable": true
   },
   "outputs": [
    {
     "data": {
      "text/plain": [
       "235259"
      ]
     },
     "execution_count": 21,
     "metadata": {},
     "output_type": "execute_result"
    }
   ],
   "source": [
    "len(data)"
   ]
  },
  {
   "cell_type": "code",
   "execution_count": 95,
   "metadata": {
    "collapsed": false
   },
   "outputs": [
    {
     "data": {
      "text/plain": [
       "qid\n",
       "10      93\n",
       "25      58\n",
       "40      84\n",
       "55      58\n",
       "70     163\n",
       "85     117\n",
       "100     88\n",
       "115    138\n",
       "130     84\n",
       "145     97\n",
       "Name: docid, dtype: int64"
      ]
     },
     "execution_count": 95,
     "metadata": {},
     "output_type": "execute_result"
    }
   ],
   "source": [
    "docs_per_query = data.groupby('qid').docid.count()\n",
    "docs_per_query[:10]"
   ]
  },
  {
   "cell_type": "markdown",
   "metadata": {},
   "source": [
    "## Sort rankings by query id\n",
    "\n",
    "Order scores\n",
    "- group by qid\n",
    "- sort by score in descresing order"
   ]
  },
  {
   "cell_type": "code",
   "execution_count": 113,
   "metadata": {
    "collapsed": false
   },
   "outputs": [],
   "source": [
    "qs = pd.concat([data['qid'], data['score'], data['relevance_label']], axis=1, keys=['qid','score', 'relevance_label'])"
   ]
  },
  {
   "cell_type": "code",
   "execution_count": 127,
   "metadata": {
    "collapsed": false
   },
   "outputs": [
    {
     "data": {
      "text/html": [
       "<div>\n",
       "<table border=\"1\" class=\"dataframe\">\n",
       "  <thead>\n",
       "    <tr style=\"text-align: right;\">\n",
       "      <th></th>\n",
       "      <th></th>\n",
       "      <th>qid</th>\n",
       "      <th>score</th>\n",
       "      <th>relevance_label</th>\n",
       "      <th>position</th>\n",
       "    </tr>\n",
       "    <tr>\n",
       "      <th>qid</th>\n",
       "      <th></th>\n",
       "      <th></th>\n",
       "      <th></th>\n",
       "      <th></th>\n",
       "      <th></th>\n",
       "    </tr>\n",
       "  </thead>\n",
       "  <tbody>\n",
       "    <tr>\n",
       "      <th rowspan=\"10\" valign=\"top\">10</th>\n",
       "      <th>73</th>\n",
       "      <td>10</td>\n",
       "      <td>4498.565910</td>\n",
       "      <td>4</td>\n",
       "      <td>0</td>\n",
       "    </tr>\n",
       "    <tr>\n",
       "      <th>5</th>\n",
       "      <td>10</td>\n",
       "      <td>4367.257274</td>\n",
       "      <td>2</td>\n",
       "      <td>1</td>\n",
       "    </tr>\n",
       "    <tr>\n",
       "      <th>61</th>\n",
       "      <td>10</td>\n",
       "      <td>35.755612</td>\n",
       "      <td>1</td>\n",
       "      <td>2</td>\n",
       "    </tr>\n",
       "    <tr>\n",
       "      <th>59</th>\n",
       "      <td>10</td>\n",
       "      <td>12.754565</td>\n",
       "      <td>3</td>\n",
       "      <td>3</td>\n",
       "    </tr>\n",
       "    <tr>\n",
       "      <th>77</th>\n",
       "      <td>10</td>\n",
       "      <td>3.772885</td>\n",
       "      <td>0</td>\n",
       "      <td>4</td>\n",
       "    </tr>\n",
       "    <tr>\n",
       "      <th>53</th>\n",
       "      <td>10</td>\n",
       "      <td>3.477178</td>\n",
       "      <td>2</td>\n",
       "      <td>5</td>\n",
       "    </tr>\n",
       "    <tr>\n",
       "      <th>6</th>\n",
       "      <td>10</td>\n",
       "      <td>3.473539</td>\n",
       "      <td>1</td>\n",
       "      <td>6</td>\n",
       "    </tr>\n",
       "    <tr>\n",
       "      <th>74</th>\n",
       "      <td>10</td>\n",
       "      <td>3.301133</td>\n",
       "      <td>1</td>\n",
       "      <td>7</td>\n",
       "    </tr>\n",
       "    <tr>\n",
       "      <th>68</th>\n",
       "      <td>10</td>\n",
       "      <td>3.292962</td>\n",
       "      <td>2</td>\n",
       "      <td>8</td>\n",
       "    </tr>\n",
       "    <tr>\n",
       "      <th>60</th>\n",
       "      <td>10</td>\n",
       "      <td>3.265408</td>\n",
       "      <td>2</td>\n",
       "      <td>9</td>\n",
       "    </tr>\n",
       "  </tbody>\n",
       "</table>\n",
       "</div>"
      ],
      "text/plain": [
       "        qid        score  relevance_label  position\n",
       "qid                                                \n",
       "10  73   10  4498.565910                4         0\n",
       "    5    10  4367.257274                2         1\n",
       "    61   10    35.755612                1         2\n",
       "    59   10    12.754565                3         3\n",
       "    77   10     3.772885                0         4\n",
       "    53   10     3.477178                2         5\n",
       "    6    10     3.473539                1         6\n",
       "    74   10     3.301133                1         7\n",
       "    68   10     3.292962                2         8\n",
       "    60   10     3.265408                2         9"
      ]
     },
     "execution_count": 127,
     "metadata": {},
     "output_type": "execute_result"
    }
   ],
   "source": [
    "rank_by_qid = qs.groupby('qid').apply(lambda x: x.sort_values(['score'],ascending = False))\n",
    "rank_by_qid['position'] = rank_by_qid.groupby('qid').cumcount()\n",
    "rank_by_qid[:10]"
   ]
  },
  {
   "cell_type": "markdown",
   "metadata": {},
   "source": [
    "# Evaluation Metrics"
   ]
  },
  {
   "cell_type": "markdown",
   "metadata": {},
   "source": [
    "Use test data as ground truth"
   ]
  },
  {
   "cell_type": "markdown",
   "metadata": {},
   "source": [
    "## MAP"
   ]
  },
  {
   "cell_type": "code",
   "execution_count": 133,
   "metadata": {
    "collapsed": false
   },
   "outputs": [
    {
     "data": {
      "text/plain": [
       "0.90446700566880622"
      ]
     },
     "execution_count": 133,
     "metadata": {},
     "output_type": "execute_result"
    }
   ],
   "source": [
    "MAP = pd.concat([rank_by_qid['qid'], rank_by_qid['relevance_label'], rank_by_qid['score'], rank_by_qid['position']], axis=1)\n",
    "MAP['relevance_binary'] = np.where(MAP['relevance_label'] >= 1,1,0)\n",
    "MAP['relevance_cumulative'] = MAP.groupby('qid')['relevance_label'].cumsum()\n",
    "MAP['precision'] = (MAP['relevance_cumulative']*MAP['relevance_binary'])/(MAP['position']+1)\n",
    "\n",
    "def mean_average_precision(data):\n",
    "    precision_sum = MAP.groupby('qid')['precision'].sum()\n",
    "    relevance_sum = MAP.groupby('qid')['relevance_binary'].sum()\n",
    "    average_precision = precision_sum/relevance_sum\n",
    "    mean_average_precision = average_precision.sum()/len(average_precision)\n",
    "    return mean_average_precision\n",
    "\n",
    "mean_average_precision(MAP)"
   ]
  },
  {
   "cell_type": "markdown",
   "metadata": {},
   "source": [
    "## NDCG@10"
   ]
  },
  {
   "cell_type": "code",
   "execution_count": 134,
   "metadata": {
    "collapsed": true
   },
   "outputs": [],
   "source": [
    "NDCG = pd.concat([rank_by_qid['qid'], rank_by_qid['relevance_label'], rank_by_qid['position']], axis=1)\n",
    "NDCG = NDCG.groupby('qid').head(10)\n",
    "\n",
    "NDCG['gain'] = (2**NDCG['relevance_label'])-1\n",
    "NDCG['rank+1'] = NDCG['position']+2\n",
    "NDCG['discount'] = np.log2(NDCG['rank+1'])\n",
    "NDCG['discounted_gain'] = NDCG['gain']/NDCG['discount']\n",
    "\n",
    "DCG = NDCG.groupby('qid')['discounted_gain'].sum()"
   ]
  },
  {
   "cell_type": "code",
   "execution_count": 136,
   "metadata": {
    "collapsed": false
   },
   "outputs": [],
   "source": [
    "NDCG_ideal = pd.concat([rank_by_qid['qid'], rank_by_qid['relevance_label']], axis=1, keys=['qid', 'relevance_label'])\n",
    "\n",
    "NDCG_ideal = NDCG_ideal.groupby('qid')['relevance_label'].apply(lambda x: x.sort_values(ascending=False)).reset_index()\n",
    "NDCG_ideal['position'] = NDCG_ideal.groupby('qid').cumcount()+1\n",
    "NDCG_ideal = NDCG_ideal.groupby('qid').head(10)"
   ]
  },
  {
   "cell_type": "code",
   "execution_count": 138,
   "metadata": {
    "collapsed": false
   },
   "outputs": [],
   "source": [
    "NDCG_ideal['gain'] = (2**NDCG_ideal['relevance_label'])-1\n",
    "NDCG_ideal['rank+1'] = NDCG_ideal['position']+1\n",
    "NDCG_ideal['discount'] = np.log2(NDCG_ideal['rank+1'])\n",
    "NDCG_ideal['discounted_gain'] = NDCG_ideal['gain']/NDCG_ideal['discount']\n",
    "\n",
    "optDCG = NDCG_ideal.groupby('qid')['discounted_gain'].sum()"
   ]
  },
  {
   "cell_type": "code",
   "execution_count": 139,
   "metadata": {
    "collapsed": false
   },
   "outputs": [
    {
     "data": {
      "text/plain": [
       "0.40594866798268447"
      ]
     },
     "execution_count": 139,
     "metadata": {},
     "output_type": "execute_result"
    }
   ],
   "source": [
    "normalised_DCG = DCG/optDCG\n",
    "normalised_DCG = np.nan_to_num(normalised_DCG)\n",
    "avg_NDCG = sum(normalised_DCG)/len(normalised_DCG)\n",
    "avg_NDCG"
   ]
  }
 ],
 "metadata": {
  "kernelspec": {
   "display_name": "Python 3",
   "language": "python",
   "name": "python3"
  },
  "language_info": {
   "codemirror_mode": {
    "name": "ipython",
    "version": 3
   },
   "file_extension": ".py",
   "mimetype": "text/x-python",
   "name": "python",
   "nbconvert_exporter": "python",
   "pygments_lexer": "ipython3",
   "version": "3.6.0"
  }
 },
 "nbformat": 4,
 "nbformat_minor": 2
}
