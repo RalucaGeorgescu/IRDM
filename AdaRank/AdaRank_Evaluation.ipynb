{
 "cells": [
  {
   "cell_type": "markdown",
   "metadata": {
    "deletable": true,
    "editable": true
   },
   "source": [
    "## AdaRank Evaluation"
   ]
  },
  {
   "cell_type": "code",
   "execution_count": 11,
   "metadata": {
    "collapsed": true,
    "deletable": true,
    "editable": true
   },
   "outputs": [],
   "source": [
    "import numpy as np\n",
    "import pandas as pd\n",
    "import matplotlib.pyplot as plt"
   ]
  },
  {
   "cell_type": "markdown",
   "metadata": {
    "deletable": true,
    "editable": true
   },
   "source": [
    "These scores are obtained from the run of AdaRank on Fold5 with -noeq flag and -max number of consecutively sampled features set to 1. The analysis investigated why the scores have negative values and ranks them."
   ]
  },
  {
   "cell_type": "code",
   "execution_count": 330,
   "metadata": {
    "collapsed": false,
    "deletable": true,
    "editable": true
   },
   "outputs": [],
   "source": [
    "from collections import defaultdict\n",
    "\n",
    "test_data = defaultdict()\n",
    "test_data_q_rel = defaultdict()\n",
    "\n",
    "# Import test data for all 5 folds and extract query id and relevance label\n",
    "for i in range(1,6):\n",
    "    test_data[i] = pd.read_csv('/Users/ralucageorgescu/Documents/MSLR-WEB10K/Fold%d/test.txt'%i, sep=\" \", header = None)\n",
    "    test_data[i][1] = test_data[i][1].map(lambda x:x.lstrip('qid:'))\n",
    "    test_data_q_rel[i] = pd.concat([test_data[i][1], test_data[i][0]], axis=1, keys=['qid', 'relevance_label'])"
   ]
  },
  {
   "cell_type": "code",
   "execution_count": 312,
   "metadata": {
    "collapsed": false,
    "deletable": true,
    "editable": true
   },
   "outputs": [
    {
     "data": {
      "text/html": [
       "<div>\n",
       "<table border=\"1\" class=\"dataframe\">\n",
       "  <thead>\n",
       "    <tr style=\"text-align: right;\">\n",
       "      <th></th>\n",
       "      <th>qid</th>\n",
       "      <th>relevance_label</th>\n",
       "    </tr>\n",
       "  </thead>\n",
       "  <tbody>\n",
       "    <tr>\n",
       "      <th>0</th>\n",
       "      <td>4</td>\n",
       "      <td>0</td>\n",
       "    </tr>\n",
       "    <tr>\n",
       "      <th>1</th>\n",
       "      <td>4</td>\n",
       "      <td>0</td>\n",
       "    </tr>\n",
       "    <tr>\n",
       "      <th>2</th>\n",
       "      <td>4</td>\n",
       "      <td>0</td>\n",
       "    </tr>\n",
       "  </tbody>\n",
       "</table>\n",
       "</div>"
      ],
      "text/plain": [
       "  qid  relevance_label\n",
       "0   4                0\n",
       "1   4                0\n",
       "2   4                0"
      ]
     },
     "execution_count": 312,
     "metadata": {},
     "output_type": "execute_result"
    }
   ],
   "source": [
    "# Test data for fold 3, first 10 entries\n",
    "test_data_q_rel[3][:3]"
   ]
  },
  {
   "cell_type": "markdown",
   "metadata": {},
   "source": [
    "## Scores Optimised for MAP"
   ]
  },
  {
   "cell_type": "code",
   "execution_count": 331,
   "metadata": {
    "collapsed": false,
    "deletable": true,
    "editable": true
   },
   "outputs": [
    {
     "data": {
      "text/html": [
       "<div>\n",
       "<table border=\"1\" class=\"dataframe\">\n",
       "  <thead>\n",
       "    <tr style=\"text-align: right;\">\n",
       "      <th></th>\n",
       "      <th>qid</th>\n",
       "      <th>docid</th>\n",
       "      <th>score</th>\n",
       "      <th>relevance_label</th>\n",
       "    </tr>\n",
       "  </thead>\n",
       "  <tbody>\n",
       "    <tr>\n",
       "      <th>0</th>\n",
       "      <td>13</td>\n",
       "      <td>0</td>\n",
       "      <td>29.154465</td>\n",
       "      <td>2</td>\n",
       "    </tr>\n",
       "    <tr>\n",
       "      <th>1</th>\n",
       "      <td>13</td>\n",
       "      <td>1</td>\n",
       "      <td>14.743775</td>\n",
       "      <td>1</td>\n",
       "    </tr>\n",
       "    <tr>\n",
       "      <th>2</th>\n",
       "      <td>13</td>\n",
       "      <td>2</td>\n",
       "      <td>21.450430</td>\n",
       "      <td>3</td>\n",
       "    </tr>\n",
       "  </tbody>\n",
       "</table>\n",
       "</div>"
      ],
      "text/plain": [
       "   qid  docid      score  relevance_label\n",
       "0   13      0  29.154465                2\n",
       "1   13      1  14.743775                1\n",
       "2   13      2  21.450430                3"
      ]
     },
     "execution_count": 331,
     "metadata": {},
     "output_type": "execute_result"
    }
   ],
   "source": [
    "data_fold1_map = pd.read_table('/Users/ralucageorgescu/Documents/scores_fold1_map.txt', names= ['qid','docid','score'])\n",
    "data_fold1_map['relevance_label'] = test_data[1][0]\n",
    "data_fold1_map[:3]"
   ]
  },
  {
   "cell_type": "code",
   "execution_count": 346,
   "metadata": {
    "collapsed": true
   },
   "outputs": [],
   "source": [
    "data_fold2_map = pd.read_table('/Users/ralucageorgescu/Documents/scores_fold2_map.txt', names= ['qid','docid','score'])\n",
    "data_fold2_map['relevance_label'] = test_data[2][0]"
   ]
  },
  {
   "cell_type": "code",
   "execution_count": 350,
   "metadata": {
    "collapsed": true
   },
   "outputs": [],
   "source": [
    "data_fold3_map = pd.read_table('/Users/ralucageorgescu/Documents/scores_fold3_map.txt', names= ['qid','docid','score'])\n",
    "data_fold3_map['relevance_label'] = test_data[3][0]"
   ]
  },
  {
   "cell_type": "code",
   "execution_count": 355,
   "metadata": {
    "collapsed": true
   },
   "outputs": [],
   "source": [
    "data_fold4_map = pd.read_table('/Users/ralucageorgescu/Documents/scores_fold4_map.txt', names= ['qid','docid','score'])\n",
    "data_fold4_map['relevance_label'] = test_data[4][0]"
   ]
  },
  {
   "cell_type": "code",
   "execution_count": 364,
   "metadata": {
    "collapsed": true
   },
   "outputs": [],
   "source": [
    "data_fold5_map = pd.read_table('/Users/ralucageorgescu/Documents/scores_fold5_map.txt', names= ['qid','docid','score'])\n",
    "data_fold5_map['relevance_label'] = test_data[5][0]"
   ]
  },
  {
   "cell_type": "markdown",
   "metadata": {},
   "source": [
    "## Scores Optimised for NDCG@10"
   ]
  },
  {
   "cell_type": "code",
   "execution_count": 336,
   "metadata": {
    "collapsed": true
   },
   "outputs": [],
   "source": [
    "data_fold1 = pd.read_table('/Users/ralucageorgescu/Documents/scores_fold1.txt', names= ['qid','docid','score'])\n",
    "data_fold1['relevance_label'] = test_data[1][0]"
   ]
  },
  {
   "cell_type": "code",
   "execution_count": 318,
   "metadata": {
    "collapsed": false,
    "deletable": true,
    "editable": true
   },
   "outputs": [
    {
     "data": {
      "text/html": [
       "<div>\n",
       "<table border=\"1\" class=\"dataframe\">\n",
       "  <thead>\n",
       "    <tr style=\"text-align: right;\">\n",
       "      <th></th>\n",
       "      <th>qid</th>\n",
       "      <th>docid</th>\n",
       "      <th>score</th>\n",
       "      <th>relevance_label</th>\n",
       "    </tr>\n",
       "  </thead>\n",
       "  <tbody>\n",
       "    <tr>\n",
       "      <th>0</th>\n",
       "      <td>1</td>\n",
       "      <td>0</td>\n",
       "      <td>-38.615415</td>\n",
       "      <td>2</td>\n",
       "    </tr>\n",
       "    <tr>\n",
       "      <th>1</th>\n",
       "      <td>1</td>\n",
       "      <td>1</td>\n",
       "      <td>-20.385842</td>\n",
       "      <td>2</td>\n",
       "    </tr>\n",
       "    <tr>\n",
       "      <th>2</th>\n",
       "      <td>1</td>\n",
       "      <td>2</td>\n",
       "      <td>-34.731544</td>\n",
       "      <td>0</td>\n",
       "    </tr>\n",
       "  </tbody>\n",
       "</table>\n",
       "</div>"
      ],
      "text/plain": [
       "   qid  docid      score  relevance_label\n",
       "0    1      0 -38.615415                2\n",
       "1    1      1 -20.385842                2\n",
       "2    1      2 -34.731544                0"
      ]
     },
     "execution_count": 318,
     "metadata": {},
     "output_type": "execute_result"
    }
   ],
   "source": [
    "data_fold2 = pd.read_table('/Users/ralucageorgescu/Documents/scores_fold2.txt', names= ['qid','docid','score'])\n",
    "data_fold2['relevance_label'] = test_data[2][0]\n",
    "data_fold2[:3]"
   ]
  },
  {
   "cell_type": "code",
   "execution_count": 309,
   "metadata": {
    "collapsed": false,
    "deletable": true,
    "editable": true
   },
   "outputs": [
    {
     "data": {
      "text/html": [
       "<div>\n",
       "<table border=\"1\" class=\"dataframe\">\n",
       "  <thead>\n",
       "    <tr style=\"text-align: right;\">\n",
       "      <th></th>\n",
       "      <th>qid</th>\n",
       "      <th>docid</th>\n",
       "      <th>score</th>\n",
       "      <th>relevance_label</th>\n",
       "    </tr>\n",
       "  </thead>\n",
       "  <tbody>\n",
       "    <tr>\n",
       "      <th>0</th>\n",
       "      <td>4</td>\n",
       "      <td>0</td>\n",
       "      <td>-71.409824</td>\n",
       "      <td>0</td>\n",
       "    </tr>\n",
       "    <tr>\n",
       "      <th>1</th>\n",
       "      <td>4</td>\n",
       "      <td>1</td>\n",
       "      <td>-47.542529</td>\n",
       "      <td>0</td>\n",
       "    </tr>\n",
       "    <tr>\n",
       "      <th>2</th>\n",
       "      <td>4</td>\n",
       "      <td>2</td>\n",
       "      <td>-71.497357</td>\n",
       "      <td>0</td>\n",
       "    </tr>\n",
       "  </tbody>\n",
       "</table>\n",
       "</div>"
      ],
      "text/plain": [
       "   qid  docid      score  relevance_label\n",
       "0    4      0 -71.409824                0\n",
       "1    4      1 -47.542529                0\n",
       "2    4      2 -71.497357                0"
      ]
     },
     "execution_count": 309,
     "metadata": {},
     "output_type": "execute_result"
    }
   ],
   "source": [
    "data_fold3 = pd.read_table('/Users/ralucageorgescu/Documents/scores_fold3.txt', names= ['qid','docid','score'])\n",
    "data_fold3['relevance_label'] = test_data[3][0]\n",
    "data_fold3[:3]"
   ]
  },
  {
   "cell_type": "code",
   "execution_count": 310,
   "metadata": {
    "collapsed": false,
    "deletable": true,
    "editable": true
   },
   "outputs": [
    {
     "data": {
      "text/html": [
       "<div>\n",
       "<table border=\"1\" class=\"dataframe\">\n",
       "  <thead>\n",
       "    <tr style=\"text-align: right;\">\n",
       "      <th></th>\n",
       "      <th>qid</th>\n",
       "      <th>docid</th>\n",
       "      <th>score</th>\n",
       "      <th>relevance_label</th>\n",
       "    </tr>\n",
       "  </thead>\n",
       "  <tbody>\n",
       "    <tr>\n",
       "      <th>0</th>\n",
       "      <td>7</td>\n",
       "      <td>0</td>\n",
       "      <td>-125.571233</td>\n",
       "      <td>0</td>\n",
       "    </tr>\n",
       "    <tr>\n",
       "      <th>1</th>\n",
       "      <td>7</td>\n",
       "      <td>1</td>\n",
       "      <td>-138.728298</td>\n",
       "      <td>0</td>\n",
       "    </tr>\n",
       "    <tr>\n",
       "      <th>2</th>\n",
       "      <td>7</td>\n",
       "      <td>2</td>\n",
       "      <td>-138.014523</td>\n",
       "      <td>1</td>\n",
       "    </tr>\n",
       "  </tbody>\n",
       "</table>\n",
       "</div>"
      ],
      "text/plain": [
       "   qid  docid       score  relevance_label\n",
       "0    7      0 -125.571233                0\n",
       "1    7      1 -138.728298                0\n",
       "2    7      2 -138.014523                1"
      ]
     },
     "execution_count": 310,
     "metadata": {},
     "output_type": "execute_result"
    }
   ],
   "source": [
    "data_fold4 = pd.read_table('/Users/ralucageorgescu/Documents/scores_fold4.txt', names= ['qid','docid','score'])\n",
    "data_fold4['relevance_label'] = test_data[4][0]\n",
    "data_fold4[:3]"
   ]
  },
  {
   "cell_type": "code",
   "execution_count": 311,
   "metadata": {
    "collapsed": false,
    "deletable": true,
    "editable": true
   },
   "outputs": [
    {
     "data": {
      "text/html": [
       "<div>\n",
       "<table border=\"1\" class=\"dataframe\">\n",
       "  <thead>\n",
       "    <tr style=\"text-align: right;\">\n",
       "      <th></th>\n",
       "      <th>qid</th>\n",
       "      <th>docid</th>\n",
       "      <th>score</th>\n",
       "      <th>relevance_label</th>\n",
       "    </tr>\n",
       "  </thead>\n",
       "  <tbody>\n",
       "    <tr>\n",
       "      <th>0</th>\n",
       "      <td>10</td>\n",
       "      <td>0</td>\n",
       "      <td>-5.294102</td>\n",
       "      <td>0</td>\n",
       "    </tr>\n",
       "    <tr>\n",
       "      <th>1</th>\n",
       "      <td>10</td>\n",
       "      <td>1</td>\n",
       "      <td>0.777860</td>\n",
       "      <td>0</td>\n",
       "    </tr>\n",
       "    <tr>\n",
       "      <th>2</th>\n",
       "      <td>10</td>\n",
       "      <td>2</td>\n",
       "      <td>2.404690</td>\n",
       "      <td>1</td>\n",
       "    </tr>\n",
       "  </tbody>\n",
       "</table>\n",
       "</div>"
      ],
      "text/plain": [
       "   qid  docid     score  relevance_label\n",
       "0   10      0 -5.294102                0\n",
       "1   10      1  0.777860                0\n",
       "2   10      2  2.404690                1"
      ]
     },
     "execution_count": 311,
     "metadata": {},
     "output_type": "execute_result"
    }
   ],
   "source": [
    "data_fold5 = pd.read_table('/Users/ralucageorgescu/Documents/scores.txt')\n",
    "data_fold5['relevance_label'] = test_data[5][0]\n",
    "data_fold5[:3]"
   ]
  },
  {
   "cell_type": "markdown",
   "metadata": {
    "deletable": true,
    "editable": true
   },
   "source": [
    "## Stats on test set"
   ]
  },
  {
   "cell_type": "markdown",
   "metadata": {
    "deletable": true,
    "editable": true
   },
   "source": [
    "Number of queries that have at most 10 documents associated"
   ]
  },
  {
   "cell_type": "code",
   "execution_count": 101,
   "metadata": {
    "collapsed": false,
    "deletable": true,
    "editable": true
   },
   "outputs": [
    {
     "name": "stdout",
     "output_type": "stream",
     "text": [
      "39\n"
     ]
    }
   ],
   "source": [
    "number = 0\n",
    "for count in doc_counts_per_query:\n",
    "    if count <= 10:\n",
    "        number += 1\n",
    "print(number)"
   ]
  },
  {
   "cell_type": "markdown",
   "metadata": {
    "deletable": true,
    "editable": true
   },
   "source": [
    "Number of queries in the test set"
   ]
  },
  {
   "cell_type": "code",
   "execution_count": 99,
   "metadata": {
    "collapsed": false,
    "deletable": true,
    "editable": true
   },
   "outputs": [
    {
     "data": {
      "text/plain": [
       "2000"
      ]
     },
     "execution_count": 99,
     "metadata": {},
     "output_type": "execute_result"
    }
   ],
   "source": [
    "groupby_query = qs.groupby('qid')\n",
    "groups = groupby_query.groups\n",
    "len(groups)"
   ]
  },
  {
   "cell_type": "code",
   "execution_count": 21,
   "metadata": {
    "collapsed": false,
    "deletable": true,
    "editable": true
   },
   "outputs": [
    {
     "data": {
      "text/plain": [
       "235259"
      ]
     },
     "execution_count": 21,
     "metadata": {},
     "output_type": "execute_result"
    }
   ],
   "source": [
    "len(data)"
   ]
  },
  {
   "cell_type": "code",
   "execution_count": 95,
   "metadata": {
    "collapsed": false,
    "deletable": true,
    "editable": true
   },
   "outputs": [
    {
     "data": {
      "text/plain": [
       "qid\n",
       "10      93\n",
       "25      58\n",
       "40      84\n",
       "55      58\n",
       "70     163\n",
       "85     117\n",
       "100     88\n",
       "115    138\n",
       "130     84\n",
       "145     97\n",
       "Name: docid, dtype: int64"
      ]
     },
     "execution_count": 95,
     "metadata": {},
     "output_type": "execute_result"
    }
   ],
   "source": [
    "docs_per_query = data.groupby('qid').docid.count()\n",
    "docs_per_query[:10]"
   ]
  },
  {
   "cell_type": "markdown",
   "metadata": {
    "deletable": true,
    "editable": true
   },
   "source": [
    "## Sort rankings by query id\n",
    "\n",
    "Order scores\n",
    "- group by qid\n",
    "- sort by score in descresing order"
   ]
  },
  {
   "cell_type": "markdown",
   "metadata": {},
   "source": [
    "### MAP"
   ]
  },
  {
   "cell_type": "code",
   "execution_count": 365,
   "metadata": {
    "collapsed": false,
    "deletable": true,
    "editable": true
   },
   "outputs": [],
   "source": [
    "qs_fold1_map = pd.concat([data_fold1_map['qid'], data_fold1_map['score'], data_fold1_map['relevance_label']], axis=1, keys=['qid','score', 'relevance_label'])\n",
    "qs_fold2_map = pd.concat([data_fold2_map['qid'], data_fold2_map['score'], data_fold2_map['relevance_label']], axis=1, keys=['qid','score', 'relevance_label'])\n",
    "qs_fold3_map = pd.concat([data_fold3_map['qid'], data_fold3_map['score'], data_fold3_map['relevance_label']], axis=1, keys=['qid','score', 'relevance_label'])\n",
    "qs_fold4_map = pd.concat([data_fold4_map['qid'], data_fold4_map['score'], data_fold4_map['relevance_label']], axis=1, keys=['qid','score', 'relevance_label'])\n",
    "qs_fold5_map = pd.concat([data_fold5_map['qid'], data_fold5_map['score'], data_fold5_map['relevance_label']], axis=1, keys=['qid','score', 'relevance_label'])"
   ]
  },
  {
   "cell_type": "code",
   "execution_count": 344,
   "metadata": {
    "collapsed": false
   },
   "outputs": [],
   "source": [
    "rank_by_qid_fold1_map = qs_fold1_map.groupby('qid').apply(lambda x: x.sort_values(['score'],ascending = False))\n",
    "rank_by_qid_fold1_map['position'] = rank_by_qid_fold1_map.groupby('qid').cumcount()"
   ]
  },
  {
   "cell_type": "code",
   "execution_count": 348,
   "metadata": {
    "collapsed": true
   },
   "outputs": [],
   "source": [
    "rank_by_qid_fold2_map = qs_fold2_map.groupby('qid').apply(lambda x: x.sort_values(['score'],ascending = False))\n",
    "rank_by_qid_fold2_map['position'] = rank_by_qid_fold2_map.groupby('qid').cumcount()"
   ]
  },
  {
   "cell_type": "code",
   "execution_count": 352,
   "metadata": {
    "collapsed": true
   },
   "outputs": [],
   "source": [
    "rank_by_qid_fold3_map = qs_fold3_map.groupby('qid').apply(lambda x: x.sort_values(['score'],ascending = False))\n",
    "rank_by_qid_fold3_map['position'] = rank_by_qid_fold3_map.groupby('qid').cumcount()"
   ]
  },
  {
   "cell_type": "code",
   "execution_count": 358,
   "metadata": {
    "collapsed": false
   },
   "outputs": [],
   "source": [
    "rank_by_qid_fold4_map = qs_fold4_map.groupby('qid').apply(lambda x: x.sort_values(['score'],ascending = False))\n",
    "rank_by_qid_fold4_map['position'] = rank_by_qid_fold4_map.groupby('qid').cumcount()"
   ]
  },
  {
   "cell_type": "code",
   "execution_count": 366,
   "metadata": {
    "collapsed": true
   },
   "outputs": [],
   "source": [
    "rank_by_qid_fold5_map = qs_fold5_map.groupby('qid').apply(lambda x: x.sort_values(['score'],ascending = False))\n",
    "rank_by_qid_fold5_map['position'] = rank_by_qid_fold5_map.groupby('qid').cumcount()"
   ]
  },
  {
   "cell_type": "markdown",
   "metadata": {},
   "source": [
    "### NDCG@10"
   ]
  },
  {
   "cell_type": "code",
   "execution_count": 337,
   "metadata": {
    "collapsed": true
   },
   "outputs": [],
   "source": [
    "qs_fold1 = pd.concat([data_fold1['qid'], data_fold1['score'], data_fold1['relevance_label']], axis=1, keys=['qid','score', 'relevance_label'])"
   ]
  },
  {
   "cell_type": "code",
   "execution_count": 319,
   "metadata": {
    "collapsed": true,
    "deletable": true,
    "editable": true
   },
   "outputs": [],
   "source": [
    "qs_fold2 = pd.concat([data_fold2['qid'], data_fold2['score'], data_fold2['relevance_label']], axis=1, keys=['qid','score', 'relevance_label'])"
   ]
  },
  {
   "cell_type": "code",
   "execution_count": 320,
   "metadata": {
    "collapsed": true,
    "deletable": true,
    "editable": true
   },
   "outputs": [],
   "source": [
    "qs_fold3 = pd.concat([data_fold3['qid'], data_fold3['score'], data_fold3['relevance_label']], axis=1, keys=['qid','score', 'relevance_label'])"
   ]
  },
  {
   "cell_type": "code",
   "execution_count": 274,
   "metadata": {
    "collapsed": true,
    "deletable": true,
    "editable": true
   },
   "outputs": [],
   "source": [
    "qs_fold4 = pd.concat([data_fold4['qid'], data_fold4['score'], data_fold4['relevance_label']], axis=1, keys=['qid','score', 'relevance_label'])"
   ]
  },
  {
   "cell_type": "code",
   "execution_count": 166,
   "metadata": {
    "collapsed": false,
    "deletable": true,
    "editable": true
   },
   "outputs": [],
   "source": [
    "qs_fold5 = pd.concat([data_fold5['qid'], data_fold5['score'], data_fold5['relevance_label']], axis=1, keys=['qid','score', 'relevance_label'])"
   ]
  },
  {
   "cell_type": "code",
   "execution_count": 338,
   "metadata": {
    "collapsed": false,
    "deletable": true,
    "editable": true
   },
   "outputs": [
    {
     "data": {
      "text/html": [
       "<div>\n",
       "<table border=\"1\" class=\"dataframe\">\n",
       "  <thead>\n",
       "    <tr style=\"text-align: right;\">\n",
       "      <th></th>\n",
       "      <th></th>\n",
       "      <th>qid</th>\n",
       "      <th>score</th>\n",
       "      <th>relevance_label</th>\n",
       "      <th>position</th>\n",
       "    </tr>\n",
       "    <tr>\n",
       "      <th>qid</th>\n",
       "      <th></th>\n",
       "      <th></th>\n",
       "      <th></th>\n",
       "      <th></th>\n",
       "      <th></th>\n",
       "    </tr>\n",
       "  </thead>\n",
       "  <tbody>\n",
       "    <tr>\n",
       "      <th rowspan=\"5\" valign=\"top\">13</th>\n",
       "      <th>107</th>\n",
       "      <td>13</td>\n",
       "      <td>1563.983701</td>\n",
       "      <td>0</td>\n",
       "      <td>0</td>\n",
       "    </tr>\n",
       "    <tr>\n",
       "      <th>132</th>\n",
       "      <td>13</td>\n",
       "      <td>812.044667</td>\n",
       "      <td>2</td>\n",
       "      <td>1</td>\n",
       "    </tr>\n",
       "    <tr>\n",
       "      <th>89</th>\n",
       "      <td>13</td>\n",
       "      <td>124.161822</td>\n",
       "      <td>2</td>\n",
       "      <td>2</td>\n",
       "    </tr>\n",
       "    <tr>\n",
       "      <th>32</th>\n",
       "      <td>13</td>\n",
       "      <td>94.361635</td>\n",
       "      <td>0</td>\n",
       "      <td>3</td>\n",
       "    </tr>\n",
       "    <tr>\n",
       "      <th>121</th>\n",
       "      <td>13</td>\n",
       "      <td>64.241272</td>\n",
       "      <td>0</td>\n",
       "      <td>4</td>\n",
       "    </tr>\n",
       "  </tbody>\n",
       "</table>\n",
       "</div>"
      ],
      "text/plain": [
       "         qid        score  relevance_label  position\n",
       "qid                                                 \n",
       "13  107   13  1563.983701                0         0\n",
       "    132   13   812.044667                2         1\n",
       "    89    13   124.161822                2         2\n",
       "    32    13    94.361635                0         3\n",
       "    121   13    64.241272                0         4"
      ]
     },
     "execution_count": 338,
     "metadata": {},
     "output_type": "execute_result"
    }
   ],
   "source": [
    "rank_by_qid_fold1 = qs_fold1.groupby('qid').apply(lambda x: x.sort_values(['score'],ascending = False))\n",
    "rank_by_qid_fold1['position'] = rank_by_qid_fold1.groupby('qid').cumcount()\n",
    "rank_by_qid_fold1[:5]"
   ]
  },
  {
   "cell_type": "code",
   "execution_count": 321,
   "metadata": {
    "collapsed": false,
    "deletable": true,
    "editable": true
   },
   "outputs": [
    {
     "data": {
      "text/html": [
       "<div>\n",
       "<table border=\"1\" class=\"dataframe\">\n",
       "  <thead>\n",
       "    <tr style=\"text-align: right;\">\n",
       "      <th></th>\n",
       "      <th></th>\n",
       "      <th>qid</th>\n",
       "      <th>score</th>\n",
       "      <th>relevance_label</th>\n",
       "      <th>position</th>\n",
       "    </tr>\n",
       "    <tr>\n",
       "      <th>qid</th>\n",
       "      <th></th>\n",
       "      <th></th>\n",
       "      <th></th>\n",
       "      <th></th>\n",
       "      <th></th>\n",
       "    </tr>\n",
       "  </thead>\n",
       "  <tbody>\n",
       "    <tr>\n",
       "      <th rowspan=\"5\" valign=\"top\">1</th>\n",
       "      <th>17</th>\n",
       "      <td>1</td>\n",
       "      <td>232.775576</td>\n",
       "      <td>2</td>\n",
       "      <td>0</td>\n",
       "    </tr>\n",
       "    <tr>\n",
       "      <th>46</th>\n",
       "      <td>1</td>\n",
       "      <td>168.643329</td>\n",
       "      <td>3</td>\n",
       "      <td>1</td>\n",
       "    </tr>\n",
       "    <tr>\n",
       "      <th>80</th>\n",
       "      <td>1</td>\n",
       "      <td>129.833561</td>\n",
       "      <td>0</td>\n",
       "      <td>2</td>\n",
       "    </tr>\n",
       "    <tr>\n",
       "      <th>83</th>\n",
       "      <td>1</td>\n",
       "      <td>1.454070</td>\n",
       "      <td>1</td>\n",
       "      <td>3</td>\n",
       "    </tr>\n",
       "    <tr>\n",
       "      <th>20</th>\n",
       "      <td>1</td>\n",
       "      <td>-8.604613</td>\n",
       "      <td>2</td>\n",
       "      <td>4</td>\n",
       "    </tr>\n",
       "  </tbody>\n",
       "</table>\n",
       "</div>"
      ],
      "text/plain": [
       "        qid       score  relevance_label  position\n",
       "qid                                               \n",
       "1   17    1  232.775576                2         0\n",
       "    46    1  168.643329                3         1\n",
       "    80    1  129.833561                0         2\n",
       "    83    1    1.454070                1         3\n",
       "    20    1   -8.604613                2         4"
      ]
     },
     "execution_count": 321,
     "metadata": {},
     "output_type": "execute_result"
    }
   ],
   "source": [
    "rank_by_qid_fold2 = qs_fold2.groupby('qid').apply(lambda x: x.sort_values(['score'],ascending = False))\n",
    "rank_by_qid_fold2['position'] = rank_by_qid_fold2.groupby('qid').cumcount()\n",
    "rank_by_qid_fold2[:5]"
   ]
  },
  {
   "cell_type": "code",
   "execution_count": 314,
   "metadata": {
    "collapsed": false,
    "deletable": true,
    "editable": true
   },
   "outputs": [
    {
     "data": {
      "text/html": [
       "<div>\n",
       "<table border=\"1\" class=\"dataframe\">\n",
       "  <thead>\n",
       "    <tr style=\"text-align: right;\">\n",
       "      <th></th>\n",
       "      <th></th>\n",
       "      <th>qid</th>\n",
       "      <th>score</th>\n",
       "      <th>relevance_label</th>\n",
       "      <th>position</th>\n",
       "    </tr>\n",
       "    <tr>\n",
       "      <th>qid</th>\n",
       "      <th></th>\n",
       "      <th></th>\n",
       "      <th></th>\n",
       "      <th></th>\n",
       "      <th></th>\n",
       "    </tr>\n",
       "  </thead>\n",
       "  <tbody>\n",
       "    <tr>\n",
       "      <th rowspan=\"5\" valign=\"top\">4</th>\n",
       "      <th>97</th>\n",
       "      <td>4</td>\n",
       "      <td>71.717630</td>\n",
       "      <td>0</td>\n",
       "      <td>0</td>\n",
       "    </tr>\n",
       "    <tr>\n",
       "      <th>64</th>\n",
       "      <td>4</td>\n",
       "      <td>15.696029</td>\n",
       "      <td>0</td>\n",
       "      <td>1</td>\n",
       "    </tr>\n",
       "    <tr>\n",
       "      <th>94</th>\n",
       "      <td>4</td>\n",
       "      <td>-0.596635</td>\n",
       "      <td>0</td>\n",
       "      <td>2</td>\n",
       "    </tr>\n",
       "    <tr>\n",
       "      <th>89</th>\n",
       "      <td>4</td>\n",
       "      <td>-2.533713</td>\n",
       "      <td>0</td>\n",
       "      <td>3</td>\n",
       "    </tr>\n",
       "    <tr>\n",
       "      <th>100</th>\n",
       "      <td>4</td>\n",
       "      <td>-23.409743</td>\n",
       "      <td>2</td>\n",
       "      <td>4</td>\n",
       "    </tr>\n",
       "  </tbody>\n",
       "</table>\n",
       "</div>"
      ],
      "text/plain": [
       "         qid      score  relevance_label  position\n",
       "qid                                               \n",
       "4   97     4  71.717630                0         0\n",
       "    64     4  15.696029                0         1\n",
       "    94     4  -0.596635                0         2\n",
       "    89     4  -2.533713                0         3\n",
       "    100    4 -23.409743                2         4"
      ]
     },
     "execution_count": 314,
     "metadata": {},
     "output_type": "execute_result"
    }
   ],
   "source": [
    "rank_by_qid_fold3 = qs_fold3.groupby('qid').apply(lambda x: x.sort_values(['score'],ascending = False))\n",
    "rank_by_qid_fold3['position'] = rank_by_qid_fold3.groupby('qid').cumcount()\n",
    "rank_by_qid_fold3[:5]"
   ]
  },
  {
   "cell_type": "code",
   "execution_count": 282,
   "metadata": {
    "collapsed": false,
    "deletable": true,
    "editable": true
   },
   "outputs": [
    {
     "data": {
      "text/html": [
       "<div>\n",
       "<table border=\"1\" class=\"dataframe\">\n",
       "  <thead>\n",
       "    <tr style=\"text-align: right;\">\n",
       "      <th></th>\n",
       "      <th></th>\n",
       "      <th>qid</th>\n",
       "      <th>score</th>\n",
       "      <th>relevance_label</th>\n",
       "      <th>position</th>\n",
       "    </tr>\n",
       "    <tr>\n",
       "      <th>qid</th>\n",
       "      <th></th>\n",
       "      <th></th>\n",
       "      <th></th>\n",
       "      <th></th>\n",
       "      <th></th>\n",
       "    </tr>\n",
       "  </thead>\n",
       "  <tbody>\n",
       "    <tr>\n",
       "      <th rowspan=\"5\" valign=\"top\">7</th>\n",
       "      <th>87</th>\n",
       "      <td>7</td>\n",
       "      <td>139377.635340</td>\n",
       "      <td>0</td>\n",
       "      <td>0</td>\n",
       "    </tr>\n",
       "    <tr>\n",
       "      <th>98</th>\n",
       "      <td>7</td>\n",
       "      <td>134.158005</td>\n",
       "      <td>0</td>\n",
       "      <td>1</td>\n",
       "    </tr>\n",
       "    <tr>\n",
       "      <th>14</th>\n",
       "      <td>7</td>\n",
       "      <td>120.460336</td>\n",
       "      <td>0</td>\n",
       "      <td>2</td>\n",
       "    </tr>\n",
       "    <tr>\n",
       "      <th>12</th>\n",
       "      <td>7</td>\n",
       "      <td>119.976465</td>\n",
       "      <td>0</td>\n",
       "      <td>3</td>\n",
       "    </tr>\n",
       "    <tr>\n",
       "      <th>3</th>\n",
       "      <td>7</td>\n",
       "      <td>-87.093182</td>\n",
       "      <td>1</td>\n",
       "      <td>4</td>\n",
       "    </tr>\n",
       "  </tbody>\n",
       "</table>\n",
       "</div>"
      ],
      "text/plain": [
       "        qid          score  relevance_label  position\n",
       "qid                                                  \n",
       "7   87    7  139377.635340                0         0\n",
       "    98    7     134.158005                0         1\n",
       "    14    7     120.460336                0         2\n",
       "    12    7     119.976465                0         3\n",
       "    3     7     -87.093182                1         4"
      ]
     },
     "execution_count": 282,
     "metadata": {},
     "output_type": "execute_result"
    }
   ],
   "source": [
    "rank_by_qid_fold4 = qs_fold4.groupby('qid').apply(lambda x: x.sort_values(['score'],ascending = False))\n",
    "rank_by_qid_fold4['position'] = rank_by_qid_fold4.groupby('qid').cumcount()\n",
    "rank_by_qid_fold4[:5]"
   ]
  },
  {
   "cell_type": "code",
   "execution_count": 275,
   "metadata": {
    "collapsed": false,
    "deletable": true,
    "editable": true
   },
   "outputs": [
    {
     "data": {
      "text/html": [
       "<div>\n",
       "<table border=\"1\" class=\"dataframe\">\n",
       "  <thead>\n",
       "    <tr style=\"text-align: right;\">\n",
       "      <th></th>\n",
       "      <th></th>\n",
       "      <th>qid</th>\n",
       "      <th>score</th>\n",
       "      <th>relevance_label</th>\n",
       "      <th>position</th>\n",
       "    </tr>\n",
       "    <tr>\n",
       "      <th>qid</th>\n",
       "      <th></th>\n",
       "      <th></th>\n",
       "      <th></th>\n",
       "      <th></th>\n",
       "      <th></th>\n",
       "    </tr>\n",
       "  </thead>\n",
       "  <tbody>\n",
       "    <tr>\n",
       "      <th rowspan=\"5\" valign=\"top\">10</th>\n",
       "      <th>73</th>\n",
       "      <td>10</td>\n",
       "      <td>4498.565910</td>\n",
       "      <td>4</td>\n",
       "      <td>0</td>\n",
       "    </tr>\n",
       "    <tr>\n",
       "      <th>5</th>\n",
       "      <td>10</td>\n",
       "      <td>4367.257274</td>\n",
       "      <td>2</td>\n",
       "      <td>1</td>\n",
       "    </tr>\n",
       "    <tr>\n",
       "      <th>61</th>\n",
       "      <td>10</td>\n",
       "      <td>35.755612</td>\n",
       "      <td>1</td>\n",
       "      <td>2</td>\n",
       "    </tr>\n",
       "    <tr>\n",
       "      <th>59</th>\n",
       "      <td>10</td>\n",
       "      <td>12.754565</td>\n",
       "      <td>3</td>\n",
       "      <td>3</td>\n",
       "    </tr>\n",
       "    <tr>\n",
       "      <th>77</th>\n",
       "      <td>10</td>\n",
       "      <td>3.772885</td>\n",
       "      <td>0</td>\n",
       "      <td>4</td>\n",
       "    </tr>\n",
       "  </tbody>\n",
       "</table>\n",
       "</div>"
      ],
      "text/plain": [
       "        qid        score  relevance_label  position\n",
       "qid                                                \n",
       "10  73   10  4498.565910                4         0\n",
       "    5    10  4367.257274                2         1\n",
       "    61   10    35.755612                1         2\n",
       "    59   10    12.754565                3         3\n",
       "    77   10     3.772885                0         4"
      ]
     },
     "execution_count": 275,
     "metadata": {},
     "output_type": "execute_result"
    }
   ],
   "source": [
    "rank_by_qid_fold5 = qs_fold5.groupby('qid').apply(lambda x: x.sort_values(['score'],ascending = False))\n",
    "rank_by_qid_fold5['position'] = rank_by_qid_fold5.groupby('qid').cumcount()\n",
    "rank_by_qid_fold5[:5]"
   ]
  },
  {
   "cell_type": "markdown",
   "metadata": {
    "deletable": true,
    "editable": true
   },
   "source": [
    "### Documents per query Distribution"
   ]
  },
  {
   "cell_type": "markdown",
   "metadata": {
    "deletable": true,
    "editable": true
   },
   "source": [
    "Example for fold 5 of document count per query"
   ]
  },
  {
   "cell_type": "code",
   "execution_count": 191,
   "metadata": {
    "collapsed": false,
    "deletable": true,
    "editable": true
   },
   "outputs": [
    {
     "data": {
      "image/png": "[encoded data removed]",
      "text/plain": [
       "<matplotlib.figure.Figure at 0x3547f74e0>"
      ]
     },
     "metadata": {},
     "output_type": "display_data"
    }
   ],
   "source": [
    "counts = qs_fold5.groupby('qid')['score'].count().as_matrix()\n",
    "\n",
    "plt.plot(counts)\n",
    "fig_size = plt.rcParams[\"figure.figsize\"]\n",
    "fig_size[0] = 15\n",
    "fig_size[1] = 4\n",
    "plt.rcParams[\"figure.figsize\"] = fig_size\n",
    "plt.xlabel('Query')\n",
    "plt.ylabel('Document count')\n",
    "plt.show()"
   ]
  },
  {
   "cell_type": "markdown",
   "metadata": {
    "deletable": true,
    "editable": true
   },
   "source": [
    "# Evaluation Metrics"
   ]
  },
  {
   "cell_type": "markdown",
   "metadata": {
    "deletable": true,
    "editable": true
   },
   "source": [
    "## MAP"
   ]
  },
  {
   "cell_type": "code",
   "execution_count": 323,
   "metadata": {
    "collapsed": false,
    "deletable": true,
    "editable": true
   },
   "outputs": [
    {
     "data": {
      "text/plain": [
       "0.82672136753797187"
      ]
     },
     "execution_count": 323,
     "metadata": {},
     "output_type": "execute_result"
    }
   ],
   "source": [
    "def get_MAP(fold):\n",
    "    MAP = pd.concat([fold['qid'], fold['relevance_label'], fold['score'], fold['position']], axis=1)\n",
    "    MAP['relevance_binary'] = np.where(MAP['relevance_label'] >= 1,1,0)\n",
    "    MAP['relevance_cumulative'] = MAP.groupby('qid')['relevance_label'].cumsum()\n",
    "    MAP['precision'] = (MAP['relevance_cumulative']*MAP['relevance_binary'])/(MAP['position']+1)\n",
    "    return MAP\n",
    "\n",
    "def mean_average_precision(data):\n",
    "    precision_sum = data.groupby('qid')['precision'].sum()\n",
    "    relevant_docs = data.groupby('qid')['relevance_binary'].sum()\n",
    "    average_precision = precision_sum/relevant_docs\n",
    "    mean_average_precision = average_precision.sum()/len(average_precision)\n",
    "    return mean_average_precision"
   ]
  },
  {
   "cell_type": "code",
   "execution_count": 339,
   "metadata": {
    "collapsed": false,
    "deletable": true,
    "editable": true
   },
   "outputs": [
    {
     "name": "stdout",
     "output_type": "stream",
     "text": [
      "Fold 1: 0.846535994864\n",
      "Fold 2: 0.826721367538\n",
      "Fold 3: 0.8247968849\n",
      "Fold 4: 0.833916077798\n",
      "Fold 5: 0.904467005669\n",
      "Mean MAP: 0.847287466154\n"
     ]
    }
   ],
   "source": [
    "print(\"Fold 1: \" + str(mean_average_precision(get_MAP(rank_by_qid_fold1))))\n",
    "print(\"Fold 2: \" + str(mean_average_precision(get_MAP(rank_by_qid_fold2))))\n",
    "print(\"Fold 3: \" + str(mean_average_precision(get_MAP(rank_by_qid_fold3))))\n",
    "print(\"Fold 4: \" + str(mean_average_precision(get_MAP(rank_by_qid_fold4))))\n",
    "print(\"Fold 5: \" + str(mean_average_precision(get_MAP(rank_by_qid_fold5))))\n",
    "print(\"Mean MAP: \" + str((mean_average_precision(get_MAP(rank_by_qid_fold1))+\n",
    "                        mean_average_precision(get_MAP(rank_by_qid_fold2)) +\n",
    "                        mean_average_precision(get_MAP(rank_by_qid_fold3)) +\n",
    "                        mean_average_precision(get_MAP(rank_by_qid_fold4)) +\n",
    "                        mean_average_precision(get_MAP(rank_by_qid_fold5)))/5))"
   ]
  },
  {
   "cell_type": "markdown",
   "metadata": {},
   "source": [
    "Loss function optimised for MAP:"
   ]
  },
  {
   "cell_type": "code",
   "execution_count": 367,
   "metadata": {
    "collapsed": false
   },
   "outputs": [
    {
     "name": "stdout",
     "output_type": "stream",
     "text": [
      "Fold 1: 0.848903728369\n",
      "Fold 2: 0.829390298075\n",
      "Fold 3: 0.838357924986\n",
      "Fold 4: 0.887760239239\n",
      "Fold 5: 0.818426756143\n",
      "Mean MAP: 0.844567789362\n"
     ]
    }
   ],
   "source": [
    "print(\"Fold 1: \" + str(mean_average_precision(get_MAP(rank_by_qid_fold1_map))))\n",
    "print(\"Fold 2: \" + str(mean_average_precision(get_MAP(rank_by_qid_fold2_map))))\n",
    "print(\"Fold 3: \" + str(mean_average_precision(get_MAP(rank_by_qid_fold3_map))))\n",
    "print(\"Fold 4: \" + str(mean_average_precision(get_MAP(rank_by_qid_fold4_map))))\n",
    "print(\"Fold 5: \" + str(mean_average_precision(get_MAP(rank_by_qid_fold5_map))))\n",
    "print(\"Mean MAP: \" + str((mean_average_precision(get_MAP(rank_by_qid_fold1_map))+\n",
    "                        mean_average_precision(get_MAP(rank_by_qid_fold2_map)) +\n",
    "                        mean_average_precision(get_MAP(rank_by_qid_fold3_map)) +\n",
    "                        mean_average_precision(get_MAP(rank_by_qid_fold4_map)) +\n",
    "                        mean_average_precision(get_MAP(rank_by_qid_fold5_map)))/5))"
   ]
  },
  {
   "cell_type": "markdown",
   "metadata": {
    "deletable": true,
    "editable": true
   },
   "source": [
    "Precision distribution for qid:10 in fold 5"
   ]
  },
  {
   "cell_type": "code",
   "execution_count": 231,
   "metadata": {
    "collapsed": false,
    "deletable": true,
    "editable": true
   },
   "outputs": [
    {
     "data": {
      "image/png": "[encoded data removed]",
      "text/plain": [
       "<matplotlib.figure.Figure at 0x3aa4e3780>"
      ]
     },
     "metadata": {},
     "output_type": "display_data"
    }
   ],
   "source": [
    "precision = MAP['precision'][:93].as_matrix()\n",
    "\n",
    "plt.plot(precision)\n",
    "fig_size3 = plt.rcParams[\"figure.figsize\"]\n",
    "fig_size3[0] = 10\n",
    "fig_size3[1] = 4\n",
    "plt.rcParams[\"figure.figsize\"] = fig_size3\n",
    "plt.xlabel('Document')\n",
    "plt.ylabel('Precision')\n",
    "plt.show()"
   ]
  },
  {
   "cell_type": "markdown",
   "metadata": {
    "deletable": true,
    "editable": true
   },
   "source": [
    "Relevance distribution for qid:10 in fold 5"
   ]
  },
  {
   "cell_type": "code",
   "execution_count": 230,
   "metadata": {
    "collapsed": false,
    "deletable": true,
    "editable": true
   },
   "outputs": [
    {
     "data": {
      "image/png": "[encoded data removed]",
      "text/plain": [
       "<matplotlib.figure.Figure at 0x3aa49e978>"
      ]
     },
     "metadata": {},
     "output_type": "display_data"
    }
   ],
   "source": [
    "relevance = MAP['relevance_binary'][:93].as_matrix()\n",
    "\n",
    "plt.plot(relevance,'go')\n",
    "fig_size2 = plt.rcParams[\"figure.figsize\"]\n",
    "fig_size2[0] = 9\n",
    "fig_size2[1] = 2\n",
    "plt.rcParams[\"figure.figsize\"] = fig_size2\n",
    "plt.xlabel('Document')\n",
    "plt.ylabel('Relevant')\n",
    "plt.show()"
   ]
  },
  {
   "cell_type": "markdown",
   "metadata": {
    "deletable": true,
    "editable": true
   },
   "source": [
    "## NDCG@10"
   ]
  },
  {
   "cell_type": "code",
   "execution_count": 303,
   "metadata": {
    "collapsed": true,
    "deletable": true,
    "editable": true
   },
   "outputs": [],
   "source": [
    "def get_DCG(fold):\n",
    "    NDCG = pd.concat([fold['qid'], fold['relevance_label'], fold['position']], axis=1)\n",
    "    NDCG = NDCG.groupby('qid').head(10)\n",
    "\n",
    "    NDCG['gain'] = (2**NDCG['relevance_label'])-1\n",
    "    NDCG['rank+1'] = NDCG['position']+2\n",
    "    NDCG['discount'] = np.log2(NDCG['rank+1'])\n",
    "    NDCG['discounted_gain'] = NDCG['gain']/NDCG['discount']\n",
    "\n",
    "    DCG = NDCG.groupby('qid')['discounted_gain'].sum()\n",
    "    \n",
    "    NDCG_ideal = pd.concat([fold['qid'], fold['relevance_label']], axis=1, keys=['qid', 'relevance_label'])\n",
    "    NDCG_ideal = NDCG_ideal.groupby('qid')['relevance_label'].apply(lambda x: x.sort_values(ascending=False)).reset_index()\n",
    "    NDCG_ideal['position'] = NDCG_ideal.groupby('qid').cumcount()+1\n",
    "    NDCG_ideal = NDCG_ideal.groupby('qid').head(10)\n",
    "    \n",
    "    NDCG_ideal['gain'] = (2**NDCG_ideal['relevance_label'])-1\n",
    "    NDCG_ideal['rank+1'] = NDCG_ideal['position']+1\n",
    "    NDCG_ideal['discount'] = np.log2(NDCG_ideal['rank+1'])\n",
    "    NDCG_ideal['discounted_gain'] = NDCG_ideal['gain']/NDCG_ideal['discount']\n",
    "\n",
    "    optDCG = NDCG_ideal.groupby('qid')['discounted_gain'].sum()\n",
    "\n",
    "    return (DCG, optDCG)"
   ]
  },
  {
   "cell_type": "code",
   "execution_count": 306,
   "metadata": {
    "collapsed": false,
    "deletable": true,
    "editable": true
   },
   "outputs": [],
   "source": [
    "def avg_NDCG(DCG, optDCG):\n",
    "    normalised_DCG = DCG/optDCG\n",
    "    normalised_DCG = np.nan_to_num(normalised_DCG)\n",
    "    avg_NDCG = sum(normalised_DCG)/len(normalised_DCG)\n",
    "    return avg_NDCG"
   ]
  },
  {
   "cell_type": "code",
   "execution_count": 340,
   "metadata": {
    "collapsed": false,
    "deletable": true,
    "editable": true
   },
   "outputs": [
    {
     "name": "stdout",
     "output_type": "stream",
     "text": [
      "Fold1: 0.334924847356\n",
      "Fold2: 0.329356966302\n",
      "Fold3: 0.327640082738\n",
      "Fold4: 0.333235162912\n",
      "Fold5: 0.405948667983\n",
      "Mean NDCG@10: 0.346221145458\n"
     ]
    }
   ],
   "source": [
    "print('Fold1: ' + str(avg_NDCG(get_DCG(rank_by_qid_fold1)[0],get_DCG(rank_by_qid_fold1)[1])))\n",
    "print('Fold2: ' + str(avg_NDCG(get_DCG(rank_by_qid_fold2)[0],get_DCG(rank_by_qid_fold2)[1])))\n",
    "print('Fold3: ' + str(avg_NDCG(get_DCG(rank_by_qid_fold3)[0],get_DCG(rank_by_qid_fold3)[1])))\n",
    "print('Fold4: ' + str(avg_NDCG(get_DCG(rank_by_qid_fold4)[0],get_DCG(rank_by_qid_fold4)[1])))\n",
    "print('Fold5: ' + str(avg_NDCG(get_DCG(rank_by_qid_fold5)[0],get_DCG(rank_by_qid_fold5)[1])))\n",
    "\n",
    "print(\"Mean NDCG@10: \" + str((avg_NDCG(get_DCG(rank_by_qid_fold1)[0],get_DCG(rank_by_qid_fold1)[1])+\n",
    "                        avg_NDCG(get_DCG(rank_by_qid_fold2)[0],get_DCG(rank_by_qid_fold2)[1]) +\n",
    "                        avg_NDCG(get_DCG(rank_by_qid_fold3)[0],get_DCG(rank_by_qid_fold3)[1]) +\n",
    "                        avg_NDCG(get_DCG(rank_by_qid_fold4)[0],get_DCG(rank_by_qid_fold4)[1]) +\n",
    "                        avg_NDCG(get_DCG(rank_by_qid_fold5)[0],get_DCG(rank_by_qid_fold5)[1]))/5))"
   ]
  },
  {
   "cell_type": "code",
   "execution_count": 265,
   "metadata": {
    "collapsed": false,
    "deletable": true,
    "editable": true
   },
   "outputs": [
    {
     "data": {
      "image/png": "[encoded data removed]",
      "text/plain": [
       "<matplotlib.figure.Figure at 0x27474ddd8>"
      ]
     },
     "metadata": {},
     "output_type": "display_data"
    }
   ],
   "source": [
    "discount = NDCG['discount'][:10].as_matrix()\n",
    "\n",
    "plt.plot(discount, color='m')\n",
    "fig_size5 = plt.rcParams[\"figure.figsize\"]\n",
    "fig_size5[0] = 6\n",
    "fig_size5[1] = 2\n",
    "plt.rcParams[\"figure.figsize\"] = fig_size5\n",
    "plt.xlabel('Position')\n",
    "plt.ylabel('Discount')\n",
    "plt.show()"
   ]
  },
  {
   "cell_type": "code",
   "execution_count": 264,
   "metadata": {
    "collapsed": false,
    "deletable": true,
    "editable": true
   },
   "outputs": [
    {
     "data": {
      "image/png": "[encoded data removed]",
      "text/plain": [
       "<matplotlib.figure.Figure at 0x3d282b908>"
      ]
     },
     "metadata": {},
     "output_type": "display_data"
    }
   ],
   "source": [
    "gain = NDCG_ideal['gain'][:10].as_matrix()\n",
    "\n",
    "plt.plot(gain, color='#5aa513')\n",
    "fig_size5 = plt.rcParams[\"figure.figsize\"]\n",
    "fig_size5[0] = 6\n",
    "fig_size5[1] = 2\n",
    "plt.rcParams[\"figure.figsize\"] = fig_size5\n",
    "plt.xlabel('Position')\n",
    "plt.ylabel('Gain')\n",
    "plt.show()"
   ]
  },
  {
   "cell_type": "code",
   "execution_count": 245,
   "metadata": {
    "collapsed": false,
    "deletable": true,
    "editable": true
   },
   "outputs": [
    {
     "data": {
      "image/png": "[encoded data removed]",
      "text/plain": [
       "<matplotlib.figure.Figure at 0x3d289a128>"
      ]
     },
     "metadata": {},
     "output_type": "display_data"
    }
   ],
   "source": [
    "plt.plot(normalised_DCG, linewidth=.4)\n",
    "fig_size4 = plt.rcParams[\"figure.figsize\"]\n",
    "fig_size4[0] = 18\n",
    "fig_size4[1] = 2\n",
    "plt.rcParams[\"figure.figsize\"] = fig_size4\n",
    "plt.xlabel('Query')\n",
    "plt.ylabel('NDCG@10')\n",
    "plt.show()"
   ]
  },
  {
   "cell_type": "code",
   "execution_count": null,
   "metadata": {
    "collapsed": true,
    "deletable": true,
    "editable": true
   },
   "outputs": [],
   "source": []
  }
 ],
 "metadata": {
  "kernelspec": {
   "display_name": "Python 3",
   "language": "python",
   "name": "python3"
  },
  "language_info": {
   "codemirror_mode": {
    "name": "ipython",
    "version": 3
   },
   "file_extension": ".py",
   "mimetype": "text/x-python",
   "name": "python",
   "nbconvert_exporter": "python",
   "pygments_lexer": "ipython3",
   "version": "3.6.0"
  }
 },
 "nbformat": 4,
 "nbformat_minor": 2
}
